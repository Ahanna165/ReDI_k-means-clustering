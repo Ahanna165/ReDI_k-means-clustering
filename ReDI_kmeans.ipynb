{
 "cells": [
  {
   "cell_type": "markdown",
   "id": "8eab0af8",
   "metadata": {},
   "source": [
    "# IMPORT PACKAGES"
   ]
  },
  {
   "cell_type": "code",
   "execution_count": 1,
   "id": "6c754cf9",
   "metadata": {},
   "outputs": [],
   "source": [
    "import pandas as pd"
   ]
  },
  {
   "cell_type": "code",
   "execution_count": 2,
   "id": "8e8513d7",
   "metadata": {},
   "outputs": [],
   "source": [
    "from datetime import datetime"
   ]
  },
  {
   "cell_type": "code",
   "execution_count": 3,
   "id": "0d26b954",
   "metadata": {},
   "outputs": [],
   "source": [
    "from datetime import timedelta"
   ]
  },
  {
   "cell_type": "code",
   "execution_count": 4,
   "id": "7507a82c",
   "metadata": {},
   "outputs": [],
   "source": [
    "from datetime import date"
   ]
  },
  {
   "cell_type": "code",
   "execution_count": 5,
   "id": "7493d733",
   "metadata": {},
   "outputs": [],
   "source": [
    "import numpy as np"
   ]
  },
  {
   "cell_type": "code",
   "execution_count": 6,
   "id": "fd7913e2",
   "metadata": {},
   "outputs": [],
   "source": [
    "import seaborn as sns"
   ]
  },
  {
   "cell_type": "code",
   "execution_count": 7,
   "id": "014e3975",
   "metadata": {},
   "outputs": [],
   "source": [
    "import matplotlib.ticker as ticker"
   ]
  },
  {
   "cell_type": "code",
   "execution_count": 8,
   "id": "b93eb021",
   "metadata": {},
   "outputs": [],
   "source": [
    "import matplotlib.pyplot as plt"
   ]
  },
  {
   "cell_type": "code",
   "execution_count": 9,
   "id": "d35caacc",
   "metadata": {},
   "outputs": [],
   "source": [
    "import hashlib"
   ]
  },
  {
   "cell_type": "code",
   "execution_count": 10,
   "id": "45a98f4f",
   "metadata": {},
   "outputs": [],
   "source": [
    "import matplotlib.ticker as mtick"
   ]
  },
  {
   "cell_type": "code",
   "execution_count": 11,
   "id": "5f849958",
   "metadata": {},
   "outputs": [],
   "source": [
    "from sklearn.cluster import KMeans"
   ]
  },
  {
   "cell_type": "markdown",
   "id": "fc0d909d",
   "metadata": {},
   "source": [
    "## DATA ANONYMIZATION\n",
    "*Activate fields if needed*"
   ]
  },
  {
   "cell_type": "raw",
   "id": "7d74227c",
   "metadata": {},
   "source": [
    "while True:\n",
    "    try:\n",
    "        data = str(input('paste date path: ')).replace('\"','')\n",
    "        if data.endswith('xlsx'):\n",
    "            sales_data = pd.read_excel(data, sheet_name='2013all', engine='openpyxl')\n",
    "            print('\\nFile format is .xlsx\\n', sales_data.columns)\n",
    "            break\n",
    "        elif data.endswith('xls'):\n",
    "            sales_data = pd.read_excel(data, sheet_name='2013all', engine='xlrd')\n",
    "            print('\\nFile format is .xls\\n', sales_data.columns)\n",
    "            break\n",
    "        else:\n",
    "            print('\\nFile format is invalid! \\nPaste the file path as .xlsx or .xls! ')\n",
    "            continue\n",
    "    except FileNotFoundError:\n",
    "        print('\\nFileNotFoundError!\\nCheck file name before extension .xxx!')"
   ]
  },
  {
   "cell_type": "raw",
   "id": "fca99086",
   "metadata": {},
   "source": [
    "while True:\n",
    "    try:\n",
    "        data = str(input('paste date path: ')).replace('\"','')\n",
    "        if data.endswith('xlsx'):\n",
    "            peak_data = pd.read_excel(data, sheet_name='2013peak', engine='openpyxl')\n",
    "            print('\\nFile format is .xlsx\\n', peak_data.columns)\n",
    "            break\n",
    "        elif data.endswith('xls'):\n",
    "            peak_data = pd.read_excel(data, sheet_name='2013peak', engine='xlrd')\n",
    "            print('\\nFile format is .xls\\n', peak_data.columns)\n",
    "            break\n",
    "        else:\n",
    "            print('\\nFile format is invalid! \\nPaste the file path as .xlsx or .xls! ')\n",
    "            continue\n",
    "    except FileNotFoundError:\n",
    "        print('\\nFileNotFoundError!\\nCheck file name before extension .xxx!')"
   ]
  },
  {
   "cell_type": "raw",
   "id": "9aeedbcb",
   "metadata": {},
   "source": [
    "sales_data = sales_data.merge(peak_data, on='Customer', suffixes=['_year', '_peak'])"
   ]
  },
  {
   "cell_type": "raw",
   "id": "845823d7",
   "metadata": {},
   "source": [
    "sales_data.shape"
   ]
  },
  {
   "cell_type": "raw",
   "id": "9fa2df24",
   "metadata": {},
   "source": [
    "sales_data['Customer'] = sales_data['Customer'].str[:6]"
   ]
  },
  {
   "cell_type": "raw",
   "id": "3081eeb2",
   "metadata": {},
   "source": [
    "sales_data.head()"
   ]
  },
  {
   "cell_type": "raw",
   "id": "ea133f5c",
   "metadata": {},
   "source": [
    "OR BY HASHING"
   ]
  },
  {
   "cell_type": "raw",
   "id": "ae6da271",
   "metadata": {},
   "source": [
    "sales_data.set_index(sales_data['Customer'], drop=True, inplace=True)"
   ]
  },
  {
   "cell_type": "raw",
   "id": "bbc208ec",
   "metadata": {},
   "source": [
    "sales_d = sales_data.copy()"
   ]
  },
  {
   "cell_type": "raw",
   "id": "16a09833",
   "metadata": {},
   "source": [
    "sales_d = sales_d.groupby(sales_d.index).sum()"
   ]
  },
  {
   "cell_type": "raw",
   "id": "088a21fe",
   "metadata": {},
   "source": [
    "sales_d['Anonymized Customer'] = sales_d.index"
   ]
  },
  {
   "cell_type": "raw",
   "id": "93ec99bc",
   "metadata": {},
   "source": [
    "for index, row in sales_d.iterrows():\n",
    "    customer = row.index\n",
    "    anonymized_id = hashlib.sha256(str(customer).encode()).hexdigest()[:10]  \n",
    "    sales_d.at[index, 'Anonymized Customer'] = anonymized_id"
   ]
  },
  {
   "cell_type": "raw",
   "id": "c13a16c8",
   "metadata": {},
   "source": [
    "sales_d.reset_index(inplace=True)"
   ]
  },
  {
   "cell_type": "raw",
   "id": "d3213b9b",
   "metadata": {},
   "source": [
    "sales_d.drop('Customer', axis=1, inplace=True)"
   ]
  },
  {
   "cell_type": "raw",
   "id": "a8155156",
   "metadata": {},
   "source": [
    "sales_d.set_index(sales_d['Anonymized Customer'], drop=True, inplace=True)"
   ]
  },
  {
   "cell_type": "raw",
   "id": "1918851e",
   "metadata": {},
   "source": [
    "sales_d.drop('Anonymized Customer', axis=1, inplace=True)"
   ]
  },
  {
   "cell_type": "raw",
   "id": "95ebbc53",
   "metadata": {},
   "source": [
    "sales_d = sales_data.copy()"
   ]
  },
  {
   "cell_type": "raw",
   "id": "ed7e26fb",
   "metadata": {},
   "source": [
    "sales_d.to_excel(str(input('Paste the path for file and file name + .xlsx here: ')))"
   ]
  },
  {
   "cell_type": "markdown",
   "id": "87ac176d",
   "metadata": {},
   "source": [
    "# UPLOAD ANONYMIZED DATA"
   ]
  },
  {
   "cell_type": "code",
   "execution_count": null,
   "id": "64af2cf2",
   "metadata": {},
   "outputs": [],
   "source": [
    "while True:\n",
    "    try:\n",
    "        data = str(input('paste date path: ')).replace('\"','')\n",
    "        if data.endswith('xlsx'):\n",
    "            sales_info = pd.read_excel(data, engine='openpyxl')\n",
    "            print('\\nFile format is .xlsx\\n', sales_info.columns)\n",
    "            break\n",
    "        elif data.endswith('xls'):\n",
    "            sales_info = pd.read_excel(data, engine='xlrd')\n",
    "            print('\\nFile format is .xls\\n', sales_info.columns)\n",
    "            break\n",
    "        else:\n",
    "            print('\\nFile format is invalid! \\nPaste the file path as .xlsx or .xls! ')\n",
    "            continue\n",
    "    except FileNotFoundError:\n",
    "        print('\\nFileNotFoundError!\\nCheck file name before extension .xxx!')"
   ]
  },
  {
   "cell_type": "code",
   "execution_count": 241,
   "id": "7f6aad50",
   "metadata": {},
   "outputs": [],
   "source": [
    "sales_info = sales_info[['Customer', 'Invoiced Sales Amount_year', 'Sales Order Lines Count_year',\n",
    "                         'Invoiced Sales Amount_peak', 'Sales Order Lines Count_peak']]"
   ]
  },
  {
   "cell_type": "code",
   "execution_count": 242,
   "id": "2349bd31",
   "metadata": {},
   "outputs": [
    {
     "data": {
      "text/html": [
       "<div>\n",
       "<style scoped>\n",
       "    .dataframe tbody tr th:only-of-type {\n",
       "        vertical-align: middle;\n",
       "    }\n",
       "\n",
       "    .dataframe tbody tr th {\n",
       "        vertical-align: top;\n",
       "    }\n",
       "\n",
       "    .dataframe thead th {\n",
       "        text-align: right;\n",
       "    }\n",
       "</style>\n",
       "<table border=\"1\" class=\"dataframe\">\n",
       "  <thead>\n",
       "    <tr style=\"text-align: right;\">\n",
       "      <th></th>\n",
       "      <th>Customer</th>\n",
       "      <th>Invoiced Sales Amount_year</th>\n",
       "      <th>Sales Order Lines Count_year</th>\n",
       "      <th>Invoiced Sales Amount_peak</th>\n",
       "      <th>Sales Order Lines Count_peak</th>\n",
       "    </tr>\n",
       "  </thead>\n",
       "  <tbody>\n",
       "    <tr>\n",
       "      <th>0</th>\n",
       "      <td>21484</td>\n",
       "      <td>8623.18</td>\n",
       "      <td>114</td>\n",
       "      <td>1137.47</td>\n",
       "      <td>13.0</td>\n",
       "    </tr>\n",
       "    <tr>\n",
       "      <th>1</th>\n",
       "      <td>21559</td>\n",
       "      <td>82484.76</td>\n",
       "      <td>265</td>\n",
       "      <td>26232.79</td>\n",
       "      <td>111.0</td>\n",
       "    </tr>\n",
       "    <tr>\n",
       "      <th>2</th>\n",
       "      <td>21900</td>\n",
       "      <td>2814.03</td>\n",
       "      <td>53</td>\n",
       "      <td>2179.31</td>\n",
       "      <td>39.0</td>\n",
       "    </tr>\n",
       "    <tr>\n",
       "      <th>3</th>\n",
       "      <td>22014</td>\n",
       "      <td>107310.79</td>\n",
       "      <td>716</td>\n",
       "      <td>27900.40</td>\n",
       "      <td>198.0</td>\n",
       "    </tr>\n",
       "    <tr>\n",
       "      <th>4</th>\n",
       "      <td>22337</td>\n",
       "      <td>3334.75</td>\n",
       "      <td>26</td>\n",
       "      <td>1993.65</td>\n",
       "      <td>14.0</td>\n",
       "    </tr>\n",
       "  </tbody>\n",
       "</table>\n",
       "</div>"
      ],
      "text/plain": [
       "   Customer  Invoiced Sales Amount_year  Sales Order Lines Count_year  \\\n",
       "0     21484                     8623.18                           114   \n",
       "1     21559                    82484.76                           265   \n",
       "2     21900                     2814.03                            53   \n",
       "3     22014                   107310.79                           716   \n",
       "4     22337                     3334.75                            26   \n",
       "\n",
       "   Invoiced Sales Amount_peak  Sales Order Lines Count_peak  \n",
       "0                     1137.47                          13.0  \n",
       "1                    26232.79                         111.0  \n",
       "2                     2179.31                          39.0  \n",
       "3                    27900.40                         198.0  \n",
       "4                     1993.65                          14.0  "
      ]
     },
     "execution_count": 242,
     "metadata": {},
     "output_type": "execute_result"
    }
   ],
   "source": [
    "sales_info.head()"
   ]
  },
  {
   "cell_type": "markdown",
   "id": "f29e0b8f",
   "metadata": {},
   "source": [
    "## Data Exploration "
   ]
  },
  {
   "cell_type": "code",
   "execution_count": 31,
   "id": "57b8127e",
   "metadata": {
    "scrolled": true
   },
   "outputs": [
    {
     "data": {
      "text/plain": [
       "Customer                         0\n",
       "Invoiced Sales Amount_year      59\n",
       "Sales Order Lines Count_year     0\n",
       "Invoiced Sales Amount_peak      96\n",
       "Sales Order Lines Count_peak    81\n",
       "dtype: int64"
      ]
     },
     "execution_count": 31,
     "metadata": {},
     "output_type": "execute_result"
    }
   ],
   "source": [
    "sales_info.isna().sum()"
   ]
  },
  {
   "cell_type": "code",
   "execution_count": 32,
   "id": "8cc964e1",
   "metadata": {},
   "outputs": [
    {
     "data": {
      "text/html": [
       "<div>\n",
       "<style scoped>\n",
       "    .dataframe tbody tr th:only-of-type {\n",
       "        vertical-align: middle;\n",
       "    }\n",
       "\n",
       "    .dataframe tbody tr th {\n",
       "        vertical-align: top;\n",
       "    }\n",
       "\n",
       "    .dataframe thead th {\n",
       "        text-align: right;\n",
       "    }\n",
       "</style>\n",
       "<table border=\"1\" class=\"dataframe\">\n",
       "  <thead>\n",
       "    <tr style=\"text-align: right;\">\n",
       "      <th></th>\n",
       "      <th>Invoiced Sales Amount_year</th>\n",
       "      <th>Sales Order Lines Count_year</th>\n",
       "      <th>Invoiced Sales Amount_peak</th>\n",
       "      <th>Sales Order Lines Count_peak</th>\n",
       "    </tr>\n",
       "  </thead>\n",
       "  <tbody>\n",
       "    <tr>\n",
       "      <th>count</th>\n",
       "      <td>2587.000000</td>\n",
       "      <td>2646.000000</td>\n",
       "      <td>2550.000000</td>\n",
       "      <td>2565.000000</td>\n",
       "    </tr>\n",
       "    <tr>\n",
       "      <th>mean</th>\n",
       "      <td>10962.090997</td>\n",
       "      <td>63.922525</td>\n",
       "      <td>3589.024212</td>\n",
       "      <td>21.716569</td>\n",
       "    </tr>\n",
       "    <tr>\n",
       "      <th>std</th>\n",
       "      <td>31929.675313</td>\n",
       "      <td>154.834319</td>\n",
       "      <td>9657.724658</td>\n",
       "      <td>47.629948</td>\n",
       "    </tr>\n",
       "    <tr>\n",
       "      <th>min</th>\n",
       "      <td>-2128.370000</td>\n",
       "      <td>1.000000</td>\n",
       "      <td>-1684.870000</td>\n",
       "      <td>1.000000</td>\n",
       "    </tr>\n",
       "    <tr>\n",
       "      <th>25%</th>\n",
       "      <td>554.620000</td>\n",
       "      <td>5.000000</td>\n",
       "      <td>217.750000</td>\n",
       "      <td>2.000000</td>\n",
       "    </tr>\n",
       "    <tr>\n",
       "      <th>50%</th>\n",
       "      <td>2379.780000</td>\n",
       "      <td>18.000000</td>\n",
       "      <td>868.655000</td>\n",
       "      <td>7.000000</td>\n",
       "    </tr>\n",
       "    <tr>\n",
       "      <th>75%</th>\n",
       "      <td>9057.975000</td>\n",
       "      <td>60.000000</td>\n",
       "      <td>2808.802500</td>\n",
       "      <td>20.000000</td>\n",
       "    </tr>\n",
       "    <tr>\n",
       "      <th>max</th>\n",
       "      <td>823163.860000</td>\n",
       "      <td>2381.000000</td>\n",
       "      <td>221451.530000</td>\n",
       "      <td>688.000000</td>\n",
       "    </tr>\n",
       "  </tbody>\n",
       "</table>\n",
       "</div>"
      ],
      "text/plain": [
       "       Invoiced Sales Amount_year  Sales Order Lines Count_year  \\\n",
       "count                 2587.000000                   2646.000000   \n",
       "mean                 10962.090997                     63.922525   \n",
       "std                  31929.675313                    154.834319   \n",
       "min                  -2128.370000                      1.000000   \n",
       "25%                    554.620000                      5.000000   \n",
       "50%                   2379.780000                     18.000000   \n",
       "75%                   9057.975000                     60.000000   \n",
       "max                 823163.860000                   2381.000000   \n",
       "\n",
       "       Invoiced Sales Amount_peak  Sales Order Lines Count_peak  \n",
       "count                 2550.000000                   2565.000000  \n",
       "mean                  3589.024212                     21.716569  \n",
       "std                   9657.724658                     47.629948  \n",
       "min                  -1684.870000                      1.000000  \n",
       "25%                    217.750000                      2.000000  \n",
       "50%                    868.655000                      7.000000  \n",
       "75%                   2808.802500                     20.000000  \n",
       "max                 221451.530000                    688.000000  "
      ]
     },
     "execution_count": 32,
     "metadata": {},
     "output_type": "execute_result"
    }
   ],
   "source": [
    "sales_info.describe() # contains negative values"
   ]
  },
  {
   "cell_type": "code",
   "execution_count": 33,
   "id": "bd16e3b6",
   "metadata": {},
   "outputs": [],
   "source": [
    "sales_info['Invoiced Sales Amount_year'] = sales_info['Invoiced Sales Amount_year'].replace(0, 0.01)"
   ]
  },
  {
   "cell_type": "code",
   "execution_count": 34,
   "id": "cff868c1",
   "metadata": {},
   "outputs": [],
   "source": [
    "sales_info['Sales Order Lines Count_year'] = sales_info['Sales Order Lines Count_year'].replace(0, 0.01)"
   ]
  },
  {
   "cell_type": "code",
   "execution_count": 35,
   "id": "5922e224",
   "metadata": {},
   "outputs": [],
   "source": [
    "sales_info['Invoiced Sales Amount_peak'] = sales_info['Invoiced Sales Amount_peak'].replace(0, 0.01)"
   ]
  },
  {
   "cell_type": "code",
   "execution_count": 36,
   "id": "f7ab0c79",
   "metadata": {},
   "outputs": [],
   "source": [
    "sales_info['Sales Order Lines Count_peak'] = sales_info['Sales Order Lines Count_peak'].replace(0, 0.01)"
   ]
  },
  {
   "cell_type": "code",
   "execution_count": 37,
   "id": "e4f9dce3",
   "metadata": {},
   "outputs": [
    {
     "data": {
      "text/html": [
       "<div>\n",
       "<style scoped>\n",
       "    .dataframe tbody tr th:only-of-type {\n",
       "        vertical-align: middle;\n",
       "    }\n",
       "\n",
       "    .dataframe tbody tr th {\n",
       "        vertical-align: top;\n",
       "    }\n",
       "\n",
       "    .dataframe thead th {\n",
       "        text-align: right;\n",
       "    }\n",
       "</style>\n",
       "<table border=\"1\" class=\"dataframe\">\n",
       "  <thead>\n",
       "    <tr style=\"text-align: right;\">\n",
       "      <th></th>\n",
       "      <th>Invoiced Sales Amount_year</th>\n",
       "      <th>Sales Order Lines Count_year</th>\n",
       "      <th>Invoiced Sales Amount_peak</th>\n",
       "      <th>Sales Order Lines Count_peak</th>\n",
       "    </tr>\n",
       "  </thead>\n",
       "  <tbody>\n",
       "    <tr>\n",
       "      <th>count</th>\n",
       "      <td>2587.000000</td>\n",
       "      <td>2646.000000</td>\n",
       "      <td>2550.000000</td>\n",
       "      <td>2565.000000</td>\n",
       "    </tr>\n",
       "    <tr>\n",
       "      <th>mean</th>\n",
       "      <td>10962.091272</td>\n",
       "      <td>63.922525</td>\n",
       "      <td>3589.024596</td>\n",
       "      <td>21.716569</td>\n",
       "    </tr>\n",
       "    <tr>\n",
       "      <th>std</th>\n",
       "      <td>31929.675219</td>\n",
       "      <td>154.834319</td>\n",
       "      <td>9657.724515</td>\n",
       "      <td>47.629948</td>\n",
       "    </tr>\n",
       "    <tr>\n",
       "      <th>min</th>\n",
       "      <td>-2128.370000</td>\n",
       "      <td>1.000000</td>\n",
       "      <td>-1684.870000</td>\n",
       "      <td>1.000000</td>\n",
       "    </tr>\n",
       "    <tr>\n",
       "      <th>25%</th>\n",
       "      <td>554.620000</td>\n",
       "      <td>5.000000</td>\n",
       "      <td>217.750000</td>\n",
       "      <td>2.000000</td>\n",
       "    </tr>\n",
       "    <tr>\n",
       "      <th>50%</th>\n",
       "      <td>2379.780000</td>\n",
       "      <td>18.000000</td>\n",
       "      <td>868.655000</td>\n",
       "      <td>7.000000</td>\n",
       "    </tr>\n",
       "    <tr>\n",
       "      <th>75%</th>\n",
       "      <td>9057.975000</td>\n",
       "      <td>60.000000</td>\n",
       "      <td>2808.802500</td>\n",
       "      <td>20.000000</td>\n",
       "    </tr>\n",
       "    <tr>\n",
       "      <th>max</th>\n",
       "      <td>823163.860000</td>\n",
       "      <td>2381.000000</td>\n",
       "      <td>221451.530000</td>\n",
       "      <td>688.000000</td>\n",
       "    </tr>\n",
       "  </tbody>\n",
       "</table>\n",
       "</div>"
      ],
      "text/plain": [
       "       Invoiced Sales Amount_year  Sales Order Lines Count_year  \\\n",
       "count                 2587.000000                   2646.000000   \n",
       "mean                 10962.091272                     63.922525   \n",
       "std                  31929.675219                    154.834319   \n",
       "min                  -2128.370000                      1.000000   \n",
       "25%                    554.620000                      5.000000   \n",
       "50%                   2379.780000                     18.000000   \n",
       "75%                   9057.975000                     60.000000   \n",
       "max                 823163.860000                   2381.000000   \n",
       "\n",
       "       Invoiced Sales Amount_peak  Sales Order Lines Count_peak  \n",
       "count                 2550.000000                   2565.000000  \n",
       "mean                  3589.024596                     21.716569  \n",
       "std                   9657.724515                     47.629948  \n",
       "min                  -1684.870000                      1.000000  \n",
       "25%                    217.750000                      2.000000  \n",
       "50%                    868.655000                      7.000000  \n",
       "75%                   2808.802500                     20.000000  \n",
       "max                 221451.530000                    688.000000  "
      ]
     },
     "execution_count": 37,
     "metadata": {},
     "output_type": "execute_result"
    }
   ],
   "source": [
    "sales_info.describe() "
   ]
  },
  {
   "cell_type": "code",
   "execution_count": 38,
   "id": "e4bce814",
   "metadata": {},
   "outputs": [
    {
     "data": {
      "text/plain": [
       "<AxesSubplot:title={'center':'Relationship Plot Peak'}, xlabel='Sales Order Lines Count (Peak)', ylabel='Invoiced Sales Amount (Peak)'>"
      ]
     },
     "execution_count": 38,
     "metadata": {},
     "output_type": "execute_result"
    },
    {
     "data": {
      "image/png": "[encoded data removed]",
      "text/plain": [
       "<Figure size 1152x432 with 2 Axes>"
      ]
     },
     "metadata": {
      "needs_background": "light"
     },
     "output_type": "display_data"
    }
   ],
   "source": [
    "sns.set_palette('bright')\n",
    "fig, (ax1, ax2) = plt.subplots(1, 2, figsize=(16,6))\n",
    "plot1 = sns.scatterplot(data=sales_info, y='Invoiced Sales Amount_year', x='Sales Order Lines Count_year', s=20, color='blue', ax=ax1)\n",
    "plot1.set(ylim=(-30000, 600000))\n",
    "\n",
    "plot1.set_xlabel('Sales Order Lines Count (Year)', fontsize=12)\n",
    "plot1.set_ylabel('Invoiced Sales Amount (Year)', fontsize=12)\n",
    "plot1.set_title('Relationship Plot Year', fontsize=14)\n",
    "\n",
    "sns.rugplot(data=sales_info, y='Invoiced Sales Amount_year', ax=ax1)\n",
    "\n",
    "\n",
    "plot2 = sns.scatterplot(data=sales_info, y='Invoiced Sales Amount_peak', x='Sales Order Lines Count_peak', s=20, color='blue', ax=ax2)\n",
    "\n",
    "plot2.set_xlabel('Sales Order Lines Count (Peak)', fontsize=12)\n",
    "plot2.set_ylabel('Invoiced Sales Amount (Peak)', fontsize=12)\n",
    "plot2.set_title('Relationship Plot Peak', fontsize=14)\n",
    "\n",
    "sns.rugplot(data=sales_info, y='Invoiced Sales Amount_peak', ax=ax2)"
   ]
  },
  {
   "cell_type": "code",
   "execution_count": 39,
   "id": "19a11165",
   "metadata": {},
   "outputs": [
    {
     "data": {
      "text/plain": [
       "Text(0.5, 0, 'Sales Order Lines Count_peak')"
      ]
     },
     "execution_count": 39,
     "metadata": {},
     "output_type": "execute_result"
    },
    {
     "data": {
      "image/png": "[encoded data removed]",
      "text/plain": [
       "<Figure size 432x288 with 1 Axes>"
      ]
     },
     "metadata": {
      "needs_background": "light"
     },
     "output_type": "display_data"
    }
   ],
   "source": [
    "sns.set_palette('bright')\n",
    "plot = sns.regplot(data=sales_info, y='Invoiced Sales Amount_year', x='Sales Order Lines Count_peak', scatter_kws={'alpha': 0.5}, order=2)\n",
    "plot.set_title('Regression Plot: more peak orders share = more year revenue?')\n",
    "plot.set_xlabel('Sales Order Lines Count_peak')"
   ]
  },
  {
   "cell_type": "markdown",
   "id": "2fc4c96c",
   "metadata": {},
   "source": [
    "# MAKE DATA TIDY"
   ]
  },
  {
   "cell_type": "code",
   "execution_count": 40,
   "id": "c72a6c73",
   "metadata": {},
   "outputs": [
    {
     "data": {
      "text/plain": [
       "Customer                         0\n",
       "Invoiced Sales Amount_year      59\n",
       "Sales Order Lines Count_year     0\n",
       "Invoiced Sales Amount_peak      96\n",
       "Sales Order Lines Count_peak    81\n",
       "dtype: int64"
      ]
     },
     "execution_count": 40,
     "metadata": {},
     "output_type": "execute_result"
    }
   ],
   "source": [
    "sales_info.isna().sum()"
   ]
  },
  {
   "cell_type": "code",
   "execution_count": 41,
   "id": "ad4d5350",
   "metadata": {},
   "outputs": [],
   "source": [
    "# fill NA or 0 with a value close to 0 for later log transformation to avoid inf\n",
    "sales_info = sales_info.fillna(0.01)"
   ]
  },
  {
   "cell_type": "code",
   "execution_count": 44,
   "id": "028fc964",
   "metadata": {},
   "outputs": [],
   "source": [
    "sales_info = sales_info[['Customer', 'Invoiced Sales Amount_year', 'Invoiced Sales Amount_peak', 'Sales Order Lines Count_year', 'Sales Order Lines Count_peak']]"
   ]
  },
  {
   "cell_type": "code",
   "execution_count": 45,
   "id": "73482802",
   "metadata": {},
   "outputs": [
    {
     "data": {
      "text/plain": [
       "-2128.37"
      ]
     },
     "execution_count": 45,
     "metadata": {},
     "output_type": "execute_result"
    }
   ],
   "source": [
    "sales_info['Invoiced Sales Amount_year'].min()"
   ]
  },
  {
   "cell_type": "code",
   "execution_count": 46,
   "id": "1837dfe1",
   "metadata": {},
   "outputs": [
    {
     "data": {
      "text/plain": [
       "-1684.8700000000001"
      ]
     },
     "execution_count": 46,
     "metadata": {},
     "output_type": "execute_result"
    }
   ],
   "source": [
    "sales_info['Invoiced Sales Amount_peak'].min()"
   ]
  },
  {
   "cell_type": "raw",
   "id": "da57bbe7",
   "metadata": {},
   "source": [
    "3 option to avoid negative values:\n",
    "* delete\n",
    "* shift all observations by adding that negative value to all\n",
    "* replace by 0.01 to keep the observations but having no negatives in the data set for log transformation"
   ]
  },
  {
   "cell_type": "code",
   "execution_count": 47,
   "id": "f06ddc7f",
   "metadata": {},
   "outputs": [],
   "source": [
    "sales_info = sales_info.loc[sales_info['Invoiced Sales Amount_year']>0] # skip negative vaues"
   ]
  },
  {
   "cell_type": "code",
   "execution_count": 48,
   "id": "039427c8",
   "metadata": {},
   "outputs": [],
   "source": [
    "sales_info = sales_info.loc[sales_info['Invoiced Sales Amount_peak']>0] # skip negative values"
   ]
  },
  {
   "cell_type": "code",
   "execution_count": 49,
   "id": "6052d372",
   "metadata": {},
   "outputs": [
    {
     "data": {
      "text/html": [
       "<div>\n",
       "<style scoped>\n",
       "    .dataframe tbody tr th:only-of-type {\n",
       "        vertical-align: middle;\n",
       "    }\n",
       "\n",
       "    .dataframe tbody tr th {\n",
       "        vertical-align: top;\n",
       "    }\n",
       "\n",
       "    .dataframe thead th {\n",
       "        text-align: right;\n",
       "    }\n",
       "</style>\n",
       "<table border=\"1\" class=\"dataframe\">\n",
       "  <thead>\n",
       "    <tr style=\"text-align: right;\">\n",
       "      <th></th>\n",
       "      <th>Invoiced Sales Amount_year</th>\n",
       "      <th>Invoiced Sales Amount_peak</th>\n",
       "      <th>Sales Order Lines Count_year</th>\n",
       "      <th>Sales Order Lines Count_peak</th>\n",
       "    </tr>\n",
       "  </thead>\n",
       "  <tbody>\n",
       "    <tr>\n",
       "      <th>count</th>\n",
       "      <td>2.622000e+03</td>\n",
       "      <td>2.622000e+03</td>\n",
       "      <td>2622.000000</td>\n",
       "      <td>2622.000000</td>\n",
       "    </tr>\n",
       "    <tr>\n",
       "      <th>mean</th>\n",
       "      <td>1.080724e+04</td>\n",
       "      <td>3.492486e+03</td>\n",
       "      <td>64.302441</td>\n",
       "      <td>21.170778</td>\n",
       "    </tr>\n",
       "    <tr>\n",
       "      <th>std</th>\n",
       "      <td>3.174293e+04</td>\n",
       "      <td>9.541268e+03</td>\n",
       "      <td>155.478785</td>\n",
       "      <td>47.232553</td>\n",
       "    </tr>\n",
       "    <tr>\n",
       "      <th>min</th>\n",
       "      <td>2.842171e-14</td>\n",
       "      <td>2.131628e-14</td>\n",
       "      <td>1.000000</td>\n",
       "      <td>0.010000</td>\n",
       "    </tr>\n",
       "    <tr>\n",
       "      <th>25%</th>\n",
       "      <td>4.976625e+02</td>\n",
       "      <td>1.848050e+02</td>\n",
       "      <td>5.000000</td>\n",
       "      <td>2.000000</td>\n",
       "    </tr>\n",
       "    <tr>\n",
       "      <th>50%</th>\n",
       "      <td>2.283470e+03</td>\n",
       "      <td>8.010550e+02</td>\n",
       "      <td>18.000000</td>\n",
       "      <td>6.000000</td>\n",
       "    </tr>\n",
       "    <tr>\n",
       "      <th>75%</th>\n",
       "      <td>8.892427e+03</td>\n",
       "      <td>2.723533e+03</td>\n",
       "      <td>60.000000</td>\n",
       "      <td>19.000000</td>\n",
       "    </tr>\n",
       "    <tr>\n",
       "      <th>max</th>\n",
       "      <td>8.231639e+05</td>\n",
       "      <td>2.214515e+05</td>\n",
       "      <td>2381.000000</td>\n",
       "      <td>688.000000</td>\n",
       "    </tr>\n",
       "  </tbody>\n",
       "</table>\n",
       "</div>"
      ],
      "text/plain": [
       "       Invoiced Sales Amount_year  Invoiced Sales Amount_peak  \\\n",
       "count                2.622000e+03                2.622000e+03   \n",
       "mean                 1.080724e+04                3.492486e+03   \n",
       "std                  3.174293e+04                9.541268e+03   \n",
       "min                  2.842171e-14                2.131628e-14   \n",
       "25%                  4.976625e+02                1.848050e+02   \n",
       "50%                  2.283470e+03                8.010550e+02   \n",
       "75%                  8.892427e+03                2.723533e+03   \n",
       "max                  8.231639e+05                2.214515e+05   \n",
       "\n",
       "       Sales Order Lines Count_year  Sales Order Lines Count_peak  \n",
       "count                   2622.000000                   2622.000000  \n",
       "mean                      64.302441                     21.170778  \n",
       "std                      155.478785                     47.232553  \n",
       "min                        1.000000                      0.010000  \n",
       "25%                        5.000000                      2.000000  \n",
       "50%                       18.000000                      6.000000  \n",
       "75%                       60.000000                     19.000000  \n",
       "max                     2381.000000                    688.000000  "
      ]
     },
     "execution_count": 49,
     "metadata": {},
     "output_type": "execute_result"
    }
   ],
   "source": [
    "sales_info.describe()"
   ]
  },
  {
   "cell_type": "code",
   "execution_count": 50,
   "id": "6152ffa5",
   "metadata": {},
   "outputs": [],
   "source": [
    "sales_info = sales_info[sales_info['Invoiced Sales Amount_year'] < 800000]"
   ]
  },
  {
   "cell_type": "code",
   "execution_count": 51,
   "id": "4bed173f",
   "metadata": {},
   "outputs": [
    {
     "data": {
      "text/html": [
       "<div>\n",
       "<style scoped>\n",
       "    .dataframe tbody tr th:only-of-type {\n",
       "        vertical-align: middle;\n",
       "    }\n",
       "\n",
       "    .dataframe tbody tr th {\n",
       "        vertical-align: top;\n",
       "    }\n",
       "\n",
       "    .dataframe thead th {\n",
       "        text-align: right;\n",
       "    }\n",
       "</style>\n",
       "<table border=\"1\" class=\"dataframe\">\n",
       "  <thead>\n",
       "    <tr style=\"text-align: right;\">\n",
       "      <th></th>\n",
       "      <th>Customer</th>\n",
       "      <th>Invoiced Sales Amount_year</th>\n",
       "      <th>Invoiced Sales Amount_peak</th>\n",
       "      <th>Sales Order Lines Count_year</th>\n",
       "      <th>Sales Order Lines Count_peak</th>\n",
       "    </tr>\n",
       "  </thead>\n",
       "  <tbody>\n",
       "    <tr>\n",
       "      <th>0</th>\n",
       "      <td>021484</td>\n",
       "      <td>8623.18</td>\n",
       "      <td>1137.47</td>\n",
       "      <td>114.0</td>\n",
       "      <td>13.0</td>\n",
       "    </tr>\n",
       "    <tr>\n",
       "      <th>1</th>\n",
       "      <td>021559</td>\n",
       "      <td>82484.76</td>\n",
       "      <td>26232.79</td>\n",
       "      <td>265.0</td>\n",
       "      <td>111.0</td>\n",
       "    </tr>\n",
       "    <tr>\n",
       "      <th>2</th>\n",
       "      <td>021900</td>\n",
       "      <td>2814.03</td>\n",
       "      <td>2179.31</td>\n",
       "      <td>53.0</td>\n",
       "      <td>39.0</td>\n",
       "    </tr>\n",
       "    <tr>\n",
       "      <th>3</th>\n",
       "      <td>022014</td>\n",
       "      <td>107310.79</td>\n",
       "      <td>27900.40</td>\n",
       "      <td>716.0</td>\n",
       "      <td>198.0</td>\n",
       "    </tr>\n",
       "    <tr>\n",
       "      <th>4</th>\n",
       "      <td>022337</td>\n",
       "      <td>3334.75</td>\n",
       "      <td>1993.65</td>\n",
       "      <td>26.0</td>\n",
       "      <td>14.0</td>\n",
       "    </tr>\n",
       "  </tbody>\n",
       "</table>\n",
       "</div>"
      ],
      "text/plain": [
       "  Customer  Invoiced Sales Amount_year  Invoiced Sales Amount_peak  \\\n",
       "0   021484                     8623.18                     1137.47   \n",
       "1   021559                    82484.76                    26232.79   \n",
       "2   021900                     2814.03                     2179.31   \n",
       "3   022014                   107310.79                    27900.40   \n",
       "4   022337                     3334.75                     1993.65   \n",
       "\n",
       "   Sales Order Lines Count_year  Sales Order Lines Count_peak  \n",
       "0                         114.0                          13.0  \n",
       "1                         265.0                         111.0  \n",
       "2                          53.0                          39.0  \n",
       "3                         716.0                         198.0  \n",
       "4                          26.0                          14.0  "
      ]
     },
     "execution_count": 51,
     "metadata": {},
     "output_type": "execute_result"
    }
   ],
   "source": [
    "sales_info.head()"
   ]
  },
  {
   "cell_type": "markdown",
   "id": "fb2ccb8a",
   "metadata": {},
   "source": [
    "# Data pre-processing"
   ]
  },
  {
   "cell_type": "code",
   "execution_count": 52,
   "id": "db453cd7",
   "metadata": {},
   "outputs": [],
   "source": [
    "sales_i = sales_info.copy()"
   ]
  },
  {
   "cell_type": "code",
   "execution_count": 53,
   "id": "ae8c9e3d",
   "metadata": {},
   "outputs": [],
   "source": [
    "sales_i['Invoiced Sales Amount_year'] = round(pd.to_numeric(sales_i['Invoiced Sales Amount_year']),2)"
   ]
  },
  {
   "cell_type": "code",
   "execution_count": 54,
   "id": "98b58b67",
   "metadata": {},
   "outputs": [],
   "source": [
    "sales_i['Sales Order Lines Count_year'] = round(pd.to_numeric(sales_i['Sales Order Lines Count_year']),2)"
   ]
  },
  {
   "cell_type": "code",
   "execution_count": 55,
   "id": "fba168d8",
   "metadata": {},
   "outputs": [],
   "source": [
    "sales_i['Invoiced Sales Amount_peak'] = round(pd.to_numeric(sales_i['Invoiced Sales Amount_peak']),2)"
   ]
  },
  {
   "cell_type": "code",
   "execution_count": 56,
   "id": "f592c5dc",
   "metadata": {},
   "outputs": [],
   "source": [
    "sales_i['Sales Order Lines Count_peak'] = round(pd.to_numeric(sales_i['Sales Order Lines Count_peak']),2)"
   ]
  },
  {
   "cell_type": "code",
   "execution_count": 57,
   "id": "ccfda962",
   "metadata": {},
   "outputs": [],
   "source": [
    "sales_i['peak_order_%'] = (sales_i['Sales Order Lines Count_peak'] / sales_i['Sales Order Lines Count_year']).round(2) * 100"
   ]
  },
  {
   "cell_type": "code",
   "execution_count": 58,
   "id": "33c6ef5e",
   "metadata": {},
   "outputs": [],
   "source": [
    "sales_i['peak_revenue_%'] = (sales_i['Invoiced Sales Amount_peak'] / sales_i['Invoiced Sales Amount_year']).round(2) * 100"
   ]
  },
  {
   "cell_type": "code",
   "execution_count": 59,
   "id": "6dfb65ab",
   "metadata": {},
   "outputs": [
    {
     "data": {
      "text/html": [
       "<div>\n",
       "<style scoped>\n",
       "    .dataframe tbody tr th:only-of-type {\n",
       "        vertical-align: middle;\n",
       "    }\n",
       "\n",
       "    .dataframe tbody tr th {\n",
       "        vertical-align: top;\n",
       "    }\n",
       "\n",
       "    .dataframe thead th {\n",
       "        text-align: right;\n",
       "    }\n",
       "</style>\n",
       "<table border=\"1\" class=\"dataframe\">\n",
       "  <thead>\n",
       "    <tr style=\"text-align: right;\">\n",
       "      <th></th>\n",
       "      <th>Invoiced Sales Amount_year</th>\n",
       "      <th>Invoiced Sales Amount_peak</th>\n",
       "      <th>Sales Order Lines Count_year</th>\n",
       "      <th>Sales Order Lines Count_peak</th>\n",
       "      <th>peak_order_%</th>\n",
       "      <th>peak_revenue_%</th>\n",
       "    </tr>\n",
       "  </thead>\n",
       "  <tbody>\n",
       "    <tr>\n",
       "      <th>count</th>\n",
       "      <td>2621.000000</td>\n",
       "      <td>2621.000000</td>\n",
       "      <td>2621.000000</td>\n",
       "      <td>2621.000000</td>\n",
       "      <td>2621.00000</td>\n",
       "      <td>2618.000000</td>\n",
       "    </tr>\n",
       "    <tr>\n",
       "      <th>mean</th>\n",
       "      <td>10497.295589</td>\n",
       "      <td>3409.327161</td>\n",
       "      <td>64.322396</td>\n",
       "      <td>21.178852</td>\n",
       "      <td>53.34834</td>\n",
       "      <td>55.618411</td>\n",
       "    </tr>\n",
       "    <tr>\n",
       "      <th>std</th>\n",
       "      <td>27495.872746</td>\n",
       "      <td>8539.994981</td>\n",
       "      <td>155.505095</td>\n",
       "      <td>47.239756</td>\n",
       "      <td>35.62901</td>\n",
       "      <td>36.899277</td>\n",
       "    </tr>\n",
       "    <tr>\n",
       "      <th>min</th>\n",
       "      <td>0.000000</td>\n",
       "      <td>0.000000</td>\n",
       "      <td>1.000000</td>\n",
       "      <td>0.010000</td>\n",
       "      <td>0.00000</td>\n",
       "      <td>0.000000</td>\n",
       "    </tr>\n",
       "    <tr>\n",
       "      <th>25%</th>\n",
       "      <td>497.640000</td>\n",
       "      <td>184.780000</td>\n",
       "      <td>5.000000</td>\n",
       "      <td>2.000000</td>\n",
       "      <td>22.00000</td>\n",
       "      <td>22.000000</td>\n",
       "    </tr>\n",
       "    <tr>\n",
       "      <th>50%</th>\n",
       "      <td>2280.570000</td>\n",
       "      <td>800.390000</td>\n",
       "      <td>18.000000</td>\n",
       "      <td>6.000000</td>\n",
       "      <td>45.00000</td>\n",
       "      <td>50.000000</td>\n",
       "    </tr>\n",
       "    <tr>\n",
       "      <th>75%</th>\n",
       "      <td>8888.010000</td>\n",
       "      <td>2722.220000</td>\n",
       "      <td>60.000000</td>\n",
       "      <td>19.000000</td>\n",
       "      <td>100.00000</td>\n",
       "      <td>100.000000</td>\n",
       "    </tr>\n",
       "    <tr>\n",
       "      <th>max</th>\n",
       "      <td>445248.180000</td>\n",
       "      <td>98122.470000</td>\n",
       "      <td>2381.000000</td>\n",
       "      <td>688.000000</td>\n",
       "      <td>100.00000</td>\n",
       "      <td>140.000000</td>\n",
       "    </tr>\n",
       "  </tbody>\n",
       "</table>\n",
       "</div>"
      ],
      "text/plain": [
       "       Invoiced Sales Amount_year  Invoiced Sales Amount_peak  \\\n",
       "count                 2621.000000                 2621.000000   \n",
       "mean                 10497.295589                 3409.327161   \n",
       "std                  27495.872746                 8539.994981   \n",
       "min                      0.000000                    0.000000   \n",
       "25%                    497.640000                  184.780000   \n",
       "50%                   2280.570000                  800.390000   \n",
       "75%                   8888.010000                 2722.220000   \n",
       "max                 445248.180000                98122.470000   \n",
       "\n",
       "       Sales Order Lines Count_year  Sales Order Lines Count_peak  \\\n",
       "count                   2621.000000                   2621.000000   \n",
       "mean                      64.322396                     21.178852   \n",
       "std                      155.505095                     47.239756   \n",
       "min                        1.000000                      0.010000   \n",
       "25%                        5.000000                      2.000000   \n",
       "50%                       18.000000                      6.000000   \n",
       "75%                       60.000000                     19.000000   \n",
       "max                     2381.000000                    688.000000   \n",
       "\n",
       "       peak_order_%  peak_revenue_%  \n",
       "count    2621.00000     2618.000000  \n",
       "mean       53.34834       55.618411  \n",
       "std        35.62901       36.899277  \n",
       "min         0.00000        0.000000  \n",
       "25%        22.00000       22.000000  \n",
       "50%        45.00000       50.000000  \n",
       "75%       100.00000      100.000000  \n",
       "max       100.00000      140.000000  "
      ]
     },
     "execution_count": 59,
     "metadata": {},
     "output_type": "execute_result"
    }
   ],
   "source": [
    "sales_i.describe()"
   ]
  },
  {
   "cell_type": "code",
   "execution_count": 62,
   "id": "31a6099d",
   "metadata": {},
   "outputs": [
    {
     "data": {
      "text/plain": [
       "(0.0, 100.0)"
      ]
     },
     "execution_count": 62,
     "metadata": {},
     "output_type": "execute_result"
    },
    {
     "data": {
      "image/png": "[encoded data removed]",
      "text/plain": [
       "<Figure size 864x144 with 2 Axes>"
      ]
     },
     "metadata": {
      "needs_background": "light"
     },
     "output_type": "display_data"
    }
   ],
   "source": [
    "fig, (ax1, ax2) = plt.subplots(1,2, figsize=(12,2))\n",
    "sns.boxenplot(data=sales_i, x='peak_order_%', ax=ax1)\n",
    "sns.stripplot(data=sales_i, x='peak_order_%', ax=ax1, color='white', alpha=0.3, size=2)\n",
    "ax1.set_title('Peak Order Share Distribution')\n",
    "ax1.set_xlabel('Peak Order Share in %')\n",
    "\n",
    "sns.boxenplot(data=sales_i, x='peak_revenue_%', ax=ax2)\n",
    "sns.stripplot(data=sales_i, x='peak_revenue_%', ax=ax2, color='white', alpha=0.3, size=2)\n",
    "ax2.set_title('Peak Revenue Share Distribution')\n",
    "ax2.set_xlabel('Peak Revenue Share in %')\n",
    "\n",
    "ax1.set_xlim(0, 100)\n",
    "ax2.set_xlim(0, 100)\n"
   ]
  },
  {
   "cell_type": "code",
   "execution_count": 63,
   "id": "6b22174b",
   "metadata": {},
   "outputs": [
    {
     "data": {
      "text/plain": [
       "Customer                        021484\n",
       "Invoiced Sales Amount_year         0.0\n",
       "Invoiced Sales Amount_peak         0.0\n",
       "Sales Order Lines Count_year       1.0\n",
       "Sales Order Lines Count_peak      0.01\n",
       "peak_order_%                       0.0\n",
       "peak_revenue_%                     0.0\n",
       "dtype: object"
      ]
     },
     "execution_count": 63,
     "metadata": {},
     "output_type": "execute_result"
    }
   ],
   "source": [
    "sales_i.min()"
   ]
  },
  {
   "cell_type": "markdown",
   "id": "a954c662",
   "metadata": {},
   "source": [
    "# K-MEANS "
   ]
  },
  {
   "cell_type": "code",
   "execution_count": 64,
   "id": "7c990504",
   "metadata": {},
   "outputs": [
    {
     "data": {
      "text/html": [
       "<div>\n",
       "<style scoped>\n",
       "    .dataframe tbody tr th:only-of-type {\n",
       "        vertical-align: middle;\n",
       "    }\n",
       "\n",
       "    .dataframe tbody tr th {\n",
       "        vertical-align: top;\n",
       "    }\n",
       "\n",
       "    .dataframe thead th {\n",
       "        text-align: right;\n",
       "    }\n",
       "</style>\n",
       "<table border=\"1\" class=\"dataframe\">\n",
       "  <thead>\n",
       "    <tr style=\"text-align: right;\">\n",
       "      <th></th>\n",
       "      <th>Invoiced Sales Amount_year</th>\n",
       "      <th>Invoiced Sales Amount_peak</th>\n",
       "      <th>Sales Order Lines Count_year</th>\n",
       "      <th>Sales Order Lines Count_peak</th>\n",
       "      <th>peak_order_%</th>\n",
       "      <th>peak_revenue_%</th>\n",
       "    </tr>\n",
       "  </thead>\n",
       "  <tbody>\n",
       "    <tr>\n",
       "      <th>count</th>\n",
       "      <td>2621.000000</td>\n",
       "      <td>2621.000000</td>\n",
       "      <td>2621.000000</td>\n",
       "      <td>2621.000000</td>\n",
       "      <td>2621.00000</td>\n",
       "      <td>2618.000000</td>\n",
       "    </tr>\n",
       "    <tr>\n",
       "      <th>mean</th>\n",
       "      <td>10497.295589</td>\n",
       "      <td>3409.327161</td>\n",
       "      <td>64.322396</td>\n",
       "      <td>21.178852</td>\n",
       "      <td>53.34834</td>\n",
       "      <td>55.618411</td>\n",
       "    </tr>\n",
       "    <tr>\n",
       "      <th>std</th>\n",
       "      <td>27495.872746</td>\n",
       "      <td>8539.994981</td>\n",
       "      <td>155.505095</td>\n",
       "      <td>47.239756</td>\n",
       "      <td>35.62901</td>\n",
       "      <td>36.899277</td>\n",
       "    </tr>\n",
       "    <tr>\n",
       "      <th>min</th>\n",
       "      <td>0.000000</td>\n",
       "      <td>0.000000</td>\n",
       "      <td>1.000000</td>\n",
       "      <td>0.010000</td>\n",
       "      <td>0.00000</td>\n",
       "      <td>0.000000</td>\n",
       "    </tr>\n",
       "    <tr>\n",
       "      <th>25%</th>\n",
       "      <td>497.640000</td>\n",
       "      <td>184.780000</td>\n",
       "      <td>5.000000</td>\n",
       "      <td>2.000000</td>\n",
       "      <td>22.00000</td>\n",
       "      <td>22.000000</td>\n",
       "    </tr>\n",
       "    <tr>\n",
       "      <th>50%</th>\n",
       "      <td>2280.570000</td>\n",
       "      <td>800.390000</td>\n",
       "      <td>18.000000</td>\n",
       "      <td>6.000000</td>\n",
       "      <td>45.00000</td>\n",
       "      <td>50.000000</td>\n",
       "    </tr>\n",
       "    <tr>\n",
       "      <th>75%</th>\n",
       "      <td>8888.010000</td>\n",
       "      <td>2722.220000</td>\n",
       "      <td>60.000000</td>\n",
       "      <td>19.000000</td>\n",
       "      <td>100.00000</td>\n",
       "      <td>100.000000</td>\n",
       "    </tr>\n",
       "    <tr>\n",
       "      <th>max</th>\n",
       "      <td>445248.180000</td>\n",
       "      <td>98122.470000</td>\n",
       "      <td>2381.000000</td>\n",
       "      <td>688.000000</td>\n",
       "      <td>100.00000</td>\n",
       "      <td>140.000000</td>\n",
       "    </tr>\n",
       "  </tbody>\n",
       "</table>\n",
       "</div>"
      ],
      "text/plain": [
       "       Invoiced Sales Amount_year  Invoiced Sales Amount_peak  \\\n",
       "count                 2621.000000                 2621.000000   \n",
       "mean                 10497.295589                 3409.327161   \n",
       "std                  27495.872746                 8539.994981   \n",
       "min                      0.000000                    0.000000   \n",
       "25%                    497.640000                  184.780000   \n",
       "50%                   2280.570000                  800.390000   \n",
       "75%                   8888.010000                 2722.220000   \n",
       "max                 445248.180000                98122.470000   \n",
       "\n",
       "       Sales Order Lines Count_year  Sales Order Lines Count_peak  \\\n",
       "count                   2621.000000                   2621.000000   \n",
       "mean                      64.322396                     21.178852   \n",
       "std                      155.505095                     47.239756   \n",
       "min                        1.000000                      0.010000   \n",
       "25%                        5.000000                      2.000000   \n",
       "50%                       18.000000                      6.000000   \n",
       "75%                       60.000000                     19.000000   \n",
       "max                     2381.000000                    688.000000   \n",
       "\n",
       "       peak_order_%  peak_revenue_%  \n",
       "count    2621.00000     2618.000000  \n",
       "mean       53.34834       55.618411  \n",
       "std        35.62901       36.899277  \n",
       "min         0.00000        0.000000  \n",
       "25%        22.00000       22.000000  \n",
       "50%        45.00000       50.000000  \n",
       "75%       100.00000      100.000000  \n",
       "max       100.00000      140.000000  "
      ]
     },
     "execution_count": 64,
     "metadata": {},
     "output_type": "execute_result"
    }
   ],
   "source": [
    "sales_i.describe()"
   ]
  },
  {
   "cell_type": "code",
   "execution_count": 67,
   "id": "e0421457",
   "metadata": {},
   "outputs": [
    {
     "data": {
      "text/plain": [
       "Customer                        0\n",
       "Invoiced Sales Amount_year      0\n",
       "Invoiced Sales Amount_peak      0\n",
       "Sales Order Lines Count_year    0\n",
       "Sales Order Lines Count_peak    0\n",
       "peak_order_%                    0\n",
       "peak_revenue_%                  0\n",
       "dtype: int64"
      ]
     },
     "execution_count": 67,
     "metadata": {},
     "output_type": "execute_result"
    }
   ],
   "source": [
    "sales_i.isna().sum()"
   ]
  },
  {
   "cell_type": "code",
   "execution_count": 66,
   "id": "429a7be8",
   "metadata": {},
   "outputs": [],
   "source": [
    "sales_i['peak_revenue_%'] = sales_i['peak_revenue_%'].fillna(0)"
   ]
  },
  {
   "cell_type": "code",
   "execution_count": 68,
   "id": "324b6400",
   "metadata": {},
   "outputs": [
    {
     "data": {
      "text/html": [
       "<div>\n",
       "<style scoped>\n",
       "    .dataframe tbody tr th:only-of-type {\n",
       "        vertical-align: middle;\n",
       "    }\n",
       "\n",
       "    .dataframe tbody tr th {\n",
       "        vertical-align: top;\n",
       "    }\n",
       "\n",
       "    .dataframe thead th {\n",
       "        text-align: right;\n",
       "    }\n",
       "</style>\n",
       "<table border=\"1\" class=\"dataframe\">\n",
       "  <thead>\n",
       "    <tr style=\"text-align: right;\">\n",
       "      <th></th>\n",
       "      <th>Customer</th>\n",
       "      <th>Invoiced Sales Amount_year</th>\n",
       "      <th>Invoiced Sales Amount_peak</th>\n",
       "      <th>Sales Order Lines Count_year</th>\n",
       "      <th>Sales Order Lines Count_peak</th>\n",
       "      <th>peak_order_%</th>\n",
       "      <th>peak_revenue_%</th>\n",
       "    </tr>\n",
       "  </thead>\n",
       "  <tbody>\n",
       "    <tr>\n",
       "      <th>0</th>\n",
       "      <td>021484</td>\n",
       "      <td>8623.18</td>\n",
       "      <td>1137.47</td>\n",
       "      <td>114.0</td>\n",
       "      <td>13.0</td>\n",
       "      <td>11.0</td>\n",
       "      <td>13.0</td>\n",
       "    </tr>\n",
       "    <tr>\n",
       "      <th>1</th>\n",
       "      <td>021559</td>\n",
       "      <td>82484.76</td>\n",
       "      <td>26232.79</td>\n",
       "      <td>265.0</td>\n",
       "      <td>111.0</td>\n",
       "      <td>42.0</td>\n",
       "      <td>32.0</td>\n",
       "    </tr>\n",
       "    <tr>\n",
       "      <th>2</th>\n",
       "      <td>021900</td>\n",
       "      <td>2814.03</td>\n",
       "      <td>2179.31</td>\n",
       "      <td>53.0</td>\n",
       "      <td>39.0</td>\n",
       "      <td>74.0</td>\n",
       "      <td>77.0</td>\n",
       "    </tr>\n",
       "    <tr>\n",
       "      <th>3</th>\n",
       "      <td>022014</td>\n",
       "      <td>107310.79</td>\n",
       "      <td>27900.40</td>\n",
       "      <td>716.0</td>\n",
       "      <td>198.0</td>\n",
       "      <td>28.0</td>\n",
       "      <td>26.0</td>\n",
       "    </tr>\n",
       "    <tr>\n",
       "      <th>4</th>\n",
       "      <td>022337</td>\n",
       "      <td>3334.75</td>\n",
       "      <td>1993.65</td>\n",
       "      <td>26.0</td>\n",
       "      <td>14.0</td>\n",
       "      <td>54.0</td>\n",
       "      <td>60.0</td>\n",
       "    </tr>\n",
       "  </tbody>\n",
       "</table>\n",
       "</div>"
      ],
      "text/plain": [
       "  Customer  Invoiced Sales Amount_year  Invoiced Sales Amount_peak  \\\n",
       "0   021484                     8623.18                     1137.47   \n",
       "1   021559                    82484.76                    26232.79   \n",
       "2   021900                     2814.03                     2179.31   \n",
       "3   022014                   107310.79                    27900.40   \n",
       "4   022337                     3334.75                     1993.65   \n",
       "\n",
       "   Sales Order Lines Count_year  Sales Order Lines Count_peak  peak_order_%  \\\n",
       "0                         114.0                          13.0          11.0   \n",
       "1                         265.0                         111.0          42.0   \n",
       "2                          53.0                          39.0          74.0   \n",
       "3                         716.0                         198.0          28.0   \n",
       "4                          26.0                          14.0          54.0   \n",
       "\n",
       "   peak_revenue_%  \n",
       "0            13.0  \n",
       "1            32.0  \n",
       "2            77.0  \n",
       "3            26.0  \n",
       "4            60.0  "
      ]
     },
     "execution_count": 68,
     "metadata": {},
     "output_type": "execute_result"
    }
   ],
   "source": [
    "sales_i.head()"
   ]
  },
  {
   "cell_type": "code",
   "execution_count": 69,
   "id": "493e2ef7",
   "metadata": {},
   "outputs": [
    {
     "data": {
      "image/png": "[encoded data removed]",
      "text/plain": [
       "<Figure size 432x432 with 3 Axes>"
      ]
     },
     "metadata": {
      "needs_background": "light"
     },
     "output_type": "display_data"
    },
    {
     "data": {
      "image/png": "[encoded data removed]",
      "text/plain": [
       "<Figure size 432x432 with 3 Axes>"
      ]
     },
     "metadata": {
      "needs_background": "light"
     },
     "output_type": "display_data"
    }
   ],
   "source": [
    "g1 = sns.JointGrid(data=sales_i, y='Invoiced Sales Amount_year', x='Sales Order Lines Count_year')\n",
    "g1.plot(sns.scatterplot, sns.histplot)\n",
    "g1.plot_joint(sns.kdeplot)\n",
    "g1.plot_marginals(sns.kdeplot)\n",
    "g1.ax_joint.collections[0].set_alpha(0.3)\n",
    "g1.ax_joint.set_xlim(0, 500)\n",
    "g1.ax_joint.set_ylim(0, 80000)\n",
    "\n",
    "g2 = sns.JointGrid(data=sales_i, y='Invoiced Sales Amount_peak', x='Sales Order Lines Count_peak')\n",
    "g2.plot(sns.scatterplot, sns.histplot)\n",
    "g2.plot_joint(sns.kdeplot)\n",
    "g2.plot_marginals(sns.kdeplot)\n",
    "g2.ax_joint.collections[0].set_alpha(0.3)\n",
    "g2.ax_joint.set_xlim(0, 500)\n",
    "g2.ax_joint.set_ylim(0, 80000)\n",
    "\n",
    "plt.tight_layout()\n",
    "plt.show()"
   ]
  },
  {
   "cell_type": "code",
   "execution_count": 70,
   "id": "864c8cb3",
   "metadata": {},
   "outputs": [
    {
     "data": {
      "text/plain": [
       "Index(['Customer', 'Invoiced Sales Amount_year', 'Invoiced Sales Amount_peak',\n",
       "       'Sales Order Lines Count_year', 'Sales Order Lines Count_peak',\n",
       "       'peak_order_%', 'peak_revenue_%'],\n",
       "      dtype='object')"
      ]
     },
     "execution_count": 70,
     "metadata": {},
     "output_type": "execute_result"
    }
   ],
   "source": [
    "sales_i.columns"
   ]
  },
  {
   "cell_type": "code",
   "execution_count": 71,
   "id": "3361c949",
   "metadata": {},
   "outputs": [
    {
     "data": {
      "text/html": [
       "<div>\n",
       "<style scoped>\n",
       "    .dataframe tbody tr th:only-of-type {\n",
       "        vertical-align: middle;\n",
       "    }\n",
       "\n",
       "    .dataframe tbody tr th {\n",
       "        vertical-align: top;\n",
       "    }\n",
       "\n",
       "    .dataframe thead th {\n",
       "        text-align: right;\n",
       "    }\n",
       "</style>\n",
       "<table border=\"1\" class=\"dataframe\">\n",
       "  <thead>\n",
       "    <tr style=\"text-align: right;\">\n",
       "      <th></th>\n",
       "      <th>Customer</th>\n",
       "      <th>Invoiced Sales Amount_year</th>\n",
       "      <th>Invoiced Sales Amount_peak</th>\n",
       "      <th>Sales Order Lines Count_year</th>\n",
       "      <th>Sales Order Lines Count_peak</th>\n",
       "      <th>peak_order_%</th>\n",
       "      <th>peak_revenue_%</th>\n",
       "    </tr>\n",
       "  </thead>\n",
       "  <tbody>\n",
       "    <tr>\n",
       "      <th>0</th>\n",
       "      <td>021484</td>\n",
       "      <td>8623.18</td>\n",
       "      <td>1137.47</td>\n",
       "      <td>114.0</td>\n",
       "      <td>13.0</td>\n",
       "      <td>11.0</td>\n",
       "      <td>13.0</td>\n",
       "    </tr>\n",
       "    <tr>\n",
       "      <th>1</th>\n",
       "      <td>021559</td>\n",
       "      <td>82484.76</td>\n",
       "      <td>26232.79</td>\n",
       "      <td>265.0</td>\n",
       "      <td>111.0</td>\n",
       "      <td>42.0</td>\n",
       "      <td>32.0</td>\n",
       "    </tr>\n",
       "    <tr>\n",
       "      <th>2</th>\n",
       "      <td>021900</td>\n",
       "      <td>2814.03</td>\n",
       "      <td>2179.31</td>\n",
       "      <td>53.0</td>\n",
       "      <td>39.0</td>\n",
       "      <td>74.0</td>\n",
       "      <td>77.0</td>\n",
       "    </tr>\n",
       "    <tr>\n",
       "      <th>3</th>\n",
       "      <td>022014</td>\n",
       "      <td>107310.79</td>\n",
       "      <td>27900.40</td>\n",
       "      <td>716.0</td>\n",
       "      <td>198.0</td>\n",
       "      <td>28.0</td>\n",
       "      <td>26.0</td>\n",
       "    </tr>\n",
       "    <tr>\n",
       "      <th>4</th>\n",
       "      <td>022337</td>\n",
       "      <td>3334.75</td>\n",
       "      <td>1993.65</td>\n",
       "      <td>26.0</td>\n",
       "      <td>14.0</td>\n",
       "      <td>54.0</td>\n",
       "      <td>60.0</td>\n",
       "    </tr>\n",
       "  </tbody>\n",
       "</table>\n",
       "</div>"
      ],
      "text/plain": [
       "  Customer  Invoiced Sales Amount_year  Invoiced Sales Amount_peak  \\\n",
       "0   021484                     8623.18                     1137.47   \n",
       "1   021559                    82484.76                    26232.79   \n",
       "2   021900                     2814.03                     2179.31   \n",
       "3   022014                   107310.79                    27900.40   \n",
       "4   022337                     3334.75                     1993.65   \n",
       "\n",
       "   Sales Order Lines Count_year  Sales Order Lines Count_peak  peak_order_%  \\\n",
       "0                         114.0                          13.0          11.0   \n",
       "1                         265.0                         111.0          42.0   \n",
       "2                          53.0                          39.0          74.0   \n",
       "3                         716.0                         198.0          28.0   \n",
       "4                          26.0                          14.0          54.0   \n",
       "\n",
       "   peak_revenue_%  \n",
       "0            13.0  \n",
       "1            32.0  \n",
       "2            77.0  \n",
       "3            26.0  \n",
       "4            60.0  "
      ]
     },
     "execution_count": 71,
     "metadata": {},
     "output_type": "execute_result"
    }
   ],
   "source": [
    "sales_i.head()"
   ]
  },
  {
   "cell_type": "code",
   "execution_count": 72,
   "id": "686c18a3",
   "metadata": {},
   "outputs": [
    {
     "data": {
      "image/png": "[encoded data removed]",
      "text/plain": [
       "<Figure size 864x360 with 4 Axes>"
      ]
     },
     "metadata": {
      "needs_background": "light"
     },
     "output_type": "display_data"
    }
   ],
   "source": [
    "sns.set_palette('bright')\n",
    "fig, (ax1, ax2, ax3, ax4) = plt.subplots(1, 4, figsize=(12, 5))\n",
    "\n",
    "sns.boxenplot(data=sales_i, y='Invoiced Sales Amount_year', ax=ax1)\n",
    "ax1.set_title('Invoiced Sales Amount (Year)')\n",
    "ax1.set_xlabel('EUR/YEAR')\n",
    "ax1.set_ylabel('EUR')\n",
    "\n",
    "sns.boxenplot(data=sales_i, y='Invoiced Sales Amount_peak', ax=ax2)\n",
    "ax2.set_title('Invoiced Sales Amount (Peak)')\n",
    "ax2.set_xlabel('EUR/PEAK')\n",
    "\n",
    "sns.boxenplot(data=sales_i, y='Sales Order Lines Count_year', ax=ax3)\n",
    "ax3.set_title('Sales Order Lines Count (Year)')\n",
    "ax3.set_xlabel('ITEMS/YEAR')\n",
    "\n",
    "sns.boxenplot(data=sales_i, y='Sales Order Lines Count_peak', ax=ax4)\n",
    "ax4.set_title('Sales Order Lines Count (Peak)')\n",
    "ax4.set_xlabel('ITEMS/PEAK')\n",
    "\n",
    "plt.tight_layout()\n",
    "\n",
    "plt.show()"
   ]
  },
  {
   "cell_type": "code",
   "execution_count": 73,
   "id": "3b5385e7",
   "metadata": {},
   "outputs": [],
   "source": [
    "# create a copy for Revenue Frequency Monetary weight\n",
    "rfm = sales_i.copy() "
   ]
  },
  {
   "cell_type": "code",
   "execution_count": 74,
   "id": "58fcf020",
   "metadata": {},
   "outputs": [
    {
     "data": {
      "text/html": [
       "<div>\n",
       "<style scoped>\n",
       "    .dataframe tbody tr th:only-of-type {\n",
       "        vertical-align: middle;\n",
       "    }\n",
       "\n",
       "    .dataframe tbody tr th {\n",
       "        vertical-align: top;\n",
       "    }\n",
       "\n",
       "    .dataframe thead th {\n",
       "        text-align: right;\n",
       "    }\n",
       "</style>\n",
       "<table border=\"1\" class=\"dataframe\">\n",
       "  <thead>\n",
       "    <tr style=\"text-align: right;\">\n",
       "      <th></th>\n",
       "      <th>Customer</th>\n",
       "      <th>Invoiced Sales Amount_year</th>\n",
       "      <th>Invoiced Sales Amount_peak</th>\n",
       "      <th>Sales Order Lines Count_year</th>\n",
       "      <th>Sales Order Lines Count_peak</th>\n",
       "      <th>peak_order_%</th>\n",
       "      <th>peak_revenue_%</th>\n",
       "    </tr>\n",
       "  </thead>\n",
       "  <tbody>\n",
       "    <tr>\n",
       "      <th>0</th>\n",
       "      <td>021484</td>\n",
       "      <td>8623.18</td>\n",
       "      <td>1137.47</td>\n",
       "      <td>114.0</td>\n",
       "      <td>13.0</td>\n",
       "      <td>11.0</td>\n",
       "      <td>13.0</td>\n",
       "    </tr>\n",
       "    <tr>\n",
       "      <th>1</th>\n",
       "      <td>021559</td>\n",
       "      <td>82484.76</td>\n",
       "      <td>26232.79</td>\n",
       "      <td>265.0</td>\n",
       "      <td>111.0</td>\n",
       "      <td>42.0</td>\n",
       "      <td>32.0</td>\n",
       "    </tr>\n",
       "    <tr>\n",
       "      <th>2</th>\n",
       "      <td>021900</td>\n",
       "      <td>2814.03</td>\n",
       "      <td>2179.31</td>\n",
       "      <td>53.0</td>\n",
       "      <td>39.0</td>\n",
       "      <td>74.0</td>\n",
       "      <td>77.0</td>\n",
       "    </tr>\n",
       "    <tr>\n",
       "      <th>3</th>\n",
       "      <td>022014</td>\n",
       "      <td>107310.79</td>\n",
       "      <td>27900.40</td>\n",
       "      <td>716.0</td>\n",
       "      <td>198.0</td>\n",
       "      <td>28.0</td>\n",
       "      <td>26.0</td>\n",
       "    </tr>\n",
       "    <tr>\n",
       "      <th>4</th>\n",
       "      <td>022337</td>\n",
       "      <td>3334.75</td>\n",
       "      <td>1993.65</td>\n",
       "      <td>26.0</td>\n",
       "      <td>14.0</td>\n",
       "      <td>54.0</td>\n",
       "      <td>60.0</td>\n",
       "    </tr>\n",
       "  </tbody>\n",
       "</table>\n",
       "</div>"
      ],
      "text/plain": [
       "  Customer  Invoiced Sales Amount_year  Invoiced Sales Amount_peak  \\\n",
       "0   021484                     8623.18                     1137.47   \n",
       "1   021559                    82484.76                    26232.79   \n",
       "2   021900                     2814.03                     2179.31   \n",
       "3   022014                   107310.79                    27900.40   \n",
       "4   022337                     3334.75                     1993.65   \n",
       "\n",
       "   Sales Order Lines Count_year  Sales Order Lines Count_peak  peak_order_%  \\\n",
       "0                         114.0                          13.0          11.0   \n",
       "1                         265.0                         111.0          42.0   \n",
       "2                          53.0                          39.0          74.0   \n",
       "3                         716.0                         198.0          28.0   \n",
       "4                          26.0                          14.0          54.0   \n",
       "\n",
       "   peak_revenue_%  \n",
       "0            13.0  \n",
       "1            32.0  \n",
       "2            77.0  \n",
       "3            26.0  \n",
       "4            60.0  "
      ]
     },
     "execution_count": 74,
     "metadata": {},
     "output_type": "execute_result"
    }
   ],
   "source": [
    "rfm.head()"
   ]
  },
  {
   "cell_type": "code",
   "execution_count": 75,
   "id": "aa1f94e6",
   "metadata": {},
   "outputs": [
    {
     "data": {
      "text/html": [
       "<div>\n",
       "<style scoped>\n",
       "    .dataframe tbody tr th:only-of-type {\n",
       "        vertical-align: middle;\n",
       "    }\n",
       "\n",
       "    .dataframe tbody tr th {\n",
       "        vertical-align: top;\n",
       "    }\n",
       "\n",
       "    .dataframe thead th {\n",
       "        text-align: right;\n",
       "    }\n",
       "</style>\n",
       "<table border=\"1\" class=\"dataframe\">\n",
       "  <thead>\n",
       "    <tr style=\"text-align: right;\">\n",
       "      <th></th>\n",
       "      <th>Invoiced Sales Amount_year</th>\n",
       "      <th>Invoiced Sales Amount_peak</th>\n",
       "      <th>Sales Order Lines Count_year</th>\n",
       "      <th>Sales Order Lines Count_peak</th>\n",
       "      <th>peak_order_%</th>\n",
       "      <th>peak_revenue_%</th>\n",
       "    </tr>\n",
       "  </thead>\n",
       "  <tbody>\n",
       "    <tr>\n",
       "      <th>count</th>\n",
       "      <td>2621.000000</td>\n",
       "      <td>2621.000000</td>\n",
       "      <td>2621.000000</td>\n",
       "      <td>2621.000000</td>\n",
       "      <td>2621.00000</td>\n",
       "      <td>2621.000000</td>\n",
       "    </tr>\n",
       "    <tr>\n",
       "      <th>mean</th>\n",
       "      <td>10497.295589</td>\n",
       "      <td>3409.327161</td>\n",
       "      <td>64.322396</td>\n",
       "      <td>21.178852</td>\n",
       "      <td>53.34834</td>\n",
       "      <td>55.554750</td>\n",
       "    </tr>\n",
       "    <tr>\n",
       "      <th>std</th>\n",
       "      <td>27495.872746</td>\n",
       "      <td>8539.994981</td>\n",
       "      <td>155.505095</td>\n",
       "      <td>47.239756</td>\n",
       "      <td>35.62901</td>\n",
       "      <td>36.926084</td>\n",
       "    </tr>\n",
       "    <tr>\n",
       "      <th>min</th>\n",
       "      <td>0.000000</td>\n",
       "      <td>0.000000</td>\n",
       "      <td>1.000000</td>\n",
       "      <td>0.010000</td>\n",
       "      <td>0.00000</td>\n",
       "      <td>0.000000</td>\n",
       "    </tr>\n",
       "    <tr>\n",
       "      <th>25%</th>\n",
       "      <td>497.640000</td>\n",
       "      <td>184.780000</td>\n",
       "      <td>5.000000</td>\n",
       "      <td>2.000000</td>\n",
       "      <td>22.00000</td>\n",
       "      <td>22.000000</td>\n",
       "    </tr>\n",
       "    <tr>\n",
       "      <th>50%</th>\n",
       "      <td>2280.570000</td>\n",
       "      <td>800.390000</td>\n",
       "      <td>18.000000</td>\n",
       "      <td>6.000000</td>\n",
       "      <td>45.00000</td>\n",
       "      <td>50.000000</td>\n",
       "    </tr>\n",
       "    <tr>\n",
       "      <th>75%</th>\n",
       "      <td>8888.010000</td>\n",
       "      <td>2722.220000</td>\n",
       "      <td>60.000000</td>\n",
       "      <td>19.000000</td>\n",
       "      <td>100.00000</td>\n",
       "      <td>100.000000</td>\n",
       "    </tr>\n",
       "    <tr>\n",
       "      <th>max</th>\n",
       "      <td>445248.180000</td>\n",
       "      <td>98122.470000</td>\n",
       "      <td>2381.000000</td>\n",
       "      <td>688.000000</td>\n",
       "      <td>100.00000</td>\n",
       "      <td>140.000000</td>\n",
       "    </tr>\n",
       "  </tbody>\n",
       "</table>\n",
       "</div>"
      ],
      "text/plain": [
       "       Invoiced Sales Amount_year  Invoiced Sales Amount_peak  \\\n",
       "count                 2621.000000                 2621.000000   \n",
       "mean                 10497.295589                 3409.327161   \n",
       "std                  27495.872746                 8539.994981   \n",
       "min                      0.000000                    0.000000   \n",
       "25%                    497.640000                  184.780000   \n",
       "50%                   2280.570000                  800.390000   \n",
       "75%                   8888.010000                 2722.220000   \n",
       "max                 445248.180000                98122.470000   \n",
       "\n",
       "       Sales Order Lines Count_year  Sales Order Lines Count_peak  \\\n",
       "count                   2621.000000                   2621.000000   \n",
       "mean                      64.322396                     21.178852   \n",
       "std                      155.505095                     47.239756   \n",
       "min                        1.000000                      0.010000   \n",
       "25%                        5.000000                      2.000000   \n",
       "50%                       18.000000                      6.000000   \n",
       "75%                       60.000000                     19.000000   \n",
       "max                     2381.000000                    688.000000   \n",
       "\n",
       "       peak_order_%  peak_revenue_%  \n",
       "count    2621.00000     2621.000000  \n",
       "mean       53.34834       55.554750  \n",
       "std        35.62901       36.926084  \n",
       "min         0.00000        0.000000  \n",
       "25%        22.00000       22.000000  \n",
       "50%        45.00000       50.000000  \n",
       "75%       100.00000      100.000000  \n",
       "max       100.00000      140.000000  "
      ]
     },
     "execution_count": 75,
     "metadata": {},
     "output_type": "execute_result"
    }
   ],
   "source": [
    "rfm.describe()"
   ]
  },
  {
   "cell_type": "code",
   "execution_count": 76,
   "id": "28fbbbff",
   "metadata": {},
   "outputs": [
    {
     "name": "stderr",
     "output_type": "stream",
     "text": [
      "C:\\Users\\hahafonova\\Anaconda3\\lib\\site-packages\\seaborn\\distributions.py:2557: FutureWarning: `distplot` is a deprecated function and will be removed in a future version. Please adapt your code to use either `displot` (a figure-level function with similar flexibility) or `histplot` (an axes-level function for histograms).\n",
      "  warnings.warn(msg, FutureWarning)\n",
      "C:\\Users\\hahafonova\\Anaconda3\\lib\\site-packages\\seaborn\\distributions.py:2557: FutureWarning: `distplot` is a deprecated function and will be removed in a future version. Please adapt your code to use either `displot` (a figure-level function with similar flexibility) or `histplot` (an axes-level function for histograms).\n",
      "  warnings.warn(msg, FutureWarning)\n",
      "C:\\Users\\hahafonova\\Anaconda3\\lib\\site-packages\\seaborn\\distributions.py:2557: FutureWarning: `distplot` is a deprecated function and will be removed in a future version. Please adapt your code to use either `displot` (a figure-level function with similar flexibility) or `histplot` (an axes-level function for histograms).\n",
      "  warnings.warn(msg, FutureWarning)\n",
      "C:\\Users\\hahafonova\\Anaconda3\\lib\\site-packages\\seaborn\\distributions.py:2557: FutureWarning: `distplot` is a deprecated function and will be removed in a future version. Please adapt your code to use either `displot` (a figure-level function with similar flexibility) or `histplot` (an axes-level function for histograms).\n",
      "  warnings.warn(msg, FutureWarning)\n"
     ]
    },
    {
     "data": {
      "image/png": "[encoded data removed]",
      "text/plain": [
       "<Figure size 432x288 with 4 Axes>"
      ]
     },
     "metadata": {
      "needs_background": "light"
     },
     "output_type": "display_data"
    }
   ],
   "source": [
    "# see the data shape an distribution \n",
    "\n",
    "plt.subplot(2, 2, 1); sns.distplot(rfm['Invoiced Sales Amount_year'])\n",
    "plt.tick_params(axis='x', labelsize=10)\n",
    "plt.subplot(2, 2, 2); sns.distplot(rfm['Sales Order Lines Count_year'])\n",
    "plt.tick_params(axis='x', labelsize=10)\n",
    "\n",
    "plt.subplot(2, 2, 3); sns.distplot(rfm['Invoiced Sales Amount_peak'])\n",
    "plt.tick_params(axis='x', labelsize=10)\n",
    "plt.subplot(2, 2, 4); sns.distplot(rfm['Sales Order Lines Count_peak'])\n",
    "plt.tick_params(axis='x', labelsize=10)\n",
    "plt.tight_layout()\n",
    "plt.show()"
   ]
  },
  {
   "cell_type": "markdown",
   "id": "064daca2",
   "metadata": {},
   "source": [
    "# LOG TRANSFRMATION\n",
    "* check NAN\n",
    "* check -inf"
   ]
  },
  {
   "cell_type": "code",
   "execution_count": 77,
   "id": "71e34ff4",
   "metadata": {},
   "outputs": [
    {
     "data": {
      "text/html": [
       "<div>\n",
       "<style scoped>\n",
       "    .dataframe tbody tr th:only-of-type {\n",
       "        vertical-align: middle;\n",
       "    }\n",
       "\n",
       "    .dataframe tbody tr th {\n",
       "        vertical-align: top;\n",
       "    }\n",
       "\n",
       "    .dataframe thead th {\n",
       "        text-align: right;\n",
       "    }\n",
       "</style>\n",
       "<table border=\"1\" class=\"dataframe\">\n",
       "  <thead>\n",
       "    <tr style=\"text-align: right;\">\n",
       "      <th></th>\n",
       "      <th>Invoiced Sales Amount_year</th>\n",
       "      <th>Invoiced Sales Amount_peak</th>\n",
       "      <th>Sales Order Lines Count_year</th>\n",
       "      <th>Sales Order Lines Count_peak</th>\n",
       "      <th>peak_order_%</th>\n",
       "      <th>peak_revenue_%</th>\n",
       "    </tr>\n",
       "  </thead>\n",
       "  <tbody>\n",
       "    <tr>\n",
       "      <th>count</th>\n",
       "      <td>2621.000000</td>\n",
       "      <td>2621.000000</td>\n",
       "      <td>2621.000000</td>\n",
       "      <td>2621.000000</td>\n",
       "      <td>2621.00000</td>\n",
       "      <td>2621.000000</td>\n",
       "    </tr>\n",
       "    <tr>\n",
       "      <th>mean</th>\n",
       "      <td>10497.295589</td>\n",
       "      <td>3409.327161</td>\n",
       "      <td>64.322396</td>\n",
       "      <td>21.178852</td>\n",
       "      <td>53.34834</td>\n",
       "      <td>55.554750</td>\n",
       "    </tr>\n",
       "    <tr>\n",
       "      <th>std</th>\n",
       "      <td>27495.872746</td>\n",
       "      <td>8539.994981</td>\n",
       "      <td>155.505095</td>\n",
       "      <td>47.239756</td>\n",
       "      <td>35.62901</td>\n",
       "      <td>36.926084</td>\n",
       "    </tr>\n",
       "    <tr>\n",
       "      <th>min</th>\n",
       "      <td>0.000000</td>\n",
       "      <td>0.000000</td>\n",
       "      <td>1.000000</td>\n",
       "      <td>0.010000</td>\n",
       "      <td>0.00000</td>\n",
       "      <td>0.000000</td>\n",
       "    </tr>\n",
       "    <tr>\n",
       "      <th>25%</th>\n",
       "      <td>497.640000</td>\n",
       "      <td>184.780000</td>\n",
       "      <td>5.000000</td>\n",
       "      <td>2.000000</td>\n",
       "      <td>22.00000</td>\n",
       "      <td>22.000000</td>\n",
       "    </tr>\n",
       "    <tr>\n",
       "      <th>50%</th>\n",
       "      <td>2280.570000</td>\n",
       "      <td>800.390000</td>\n",
       "      <td>18.000000</td>\n",
       "      <td>6.000000</td>\n",
       "      <td>45.00000</td>\n",
       "      <td>50.000000</td>\n",
       "    </tr>\n",
       "    <tr>\n",
       "      <th>75%</th>\n",
       "      <td>8888.010000</td>\n",
       "      <td>2722.220000</td>\n",
       "      <td>60.000000</td>\n",
       "      <td>19.000000</td>\n",
       "      <td>100.00000</td>\n",
       "      <td>100.000000</td>\n",
       "    </tr>\n",
       "    <tr>\n",
       "      <th>max</th>\n",
       "      <td>445248.180000</td>\n",
       "      <td>98122.470000</td>\n",
       "      <td>2381.000000</td>\n",
       "      <td>688.000000</td>\n",
       "      <td>100.00000</td>\n",
       "      <td>140.000000</td>\n",
       "    </tr>\n",
       "  </tbody>\n",
       "</table>\n",
       "</div>"
      ],
      "text/plain": [
       "       Invoiced Sales Amount_year  Invoiced Sales Amount_peak  \\\n",
       "count                 2621.000000                 2621.000000   \n",
       "mean                 10497.295589                 3409.327161   \n",
       "std                  27495.872746                 8539.994981   \n",
       "min                      0.000000                    0.000000   \n",
       "25%                    497.640000                  184.780000   \n",
       "50%                   2280.570000                  800.390000   \n",
       "75%                   8888.010000                 2722.220000   \n",
       "max                 445248.180000                98122.470000   \n",
       "\n",
       "       Sales Order Lines Count_year  Sales Order Lines Count_peak  \\\n",
       "count                   2621.000000                   2621.000000   \n",
       "mean                      64.322396                     21.178852   \n",
       "std                      155.505095                     47.239756   \n",
       "min                        1.000000                      0.010000   \n",
       "25%                        5.000000                      2.000000   \n",
       "50%                       18.000000                      6.000000   \n",
       "75%                       60.000000                     19.000000   \n",
       "max                     2381.000000                    688.000000   \n",
       "\n",
       "       peak_order_%  peak_revenue_%  \n",
       "count    2621.00000     2621.000000  \n",
       "mean       53.34834       55.554750  \n",
       "std        35.62901       36.926084  \n",
       "min         0.00000        0.000000  \n",
       "25%        22.00000       22.000000  \n",
       "50%        45.00000       50.000000  \n",
       "75%       100.00000      100.000000  \n",
       "max       100.00000      140.000000  "
      ]
     },
     "execution_count": 77,
     "metadata": {},
     "output_type": "execute_result"
    }
   ],
   "source": [
    "rfm.describe()"
   ]
  },
  {
   "cell_type": "code",
   "execution_count": 78,
   "id": "76f93f3f",
   "metadata": {},
   "outputs": [],
   "source": [
    "# round the figures to .2 and replace 0 by 0.01 to avoid inf after log transformation"
   ]
  },
  {
   "cell_type": "code",
   "execution_count": 81,
   "id": "5be34a41",
   "metadata": {},
   "outputs": [],
   "source": [
    "rfm.set_index('Customer', inplace=True)"
   ]
  },
  {
   "cell_type": "code",
   "execution_count": 82,
   "id": "0f5a2e1a",
   "metadata": {},
   "outputs": [],
   "source": [
    "rfm['Invoiced Sales Amount_year'] = rfm['Invoiced Sales Amount_year'].round(0)"
   ]
  },
  {
   "cell_type": "code",
   "execution_count": 83,
   "id": "e19dc644",
   "metadata": {},
   "outputs": [],
   "source": [
    "rfm['Invoiced Sales Amount_peak'] = rfm['Invoiced Sales Amount_peak'].round(0)"
   ]
  },
  {
   "cell_type": "code",
   "execution_count": 84,
   "id": "9c154634",
   "metadata": {},
   "outputs": [],
   "source": [
    "rfm['Invoiced Sales Amount_year'] = rfm['Invoiced Sales Amount_year'].replace(0, 0.01)"
   ]
  },
  {
   "cell_type": "code",
   "execution_count": 85,
   "id": "f24fe1e6",
   "metadata": {},
   "outputs": [],
   "source": [
    "rfm['Invoiced Sales Amount_peak'] = rfm['Invoiced Sales Amount_peak'].replace(0, 0.01)"
   ]
  },
  {
   "cell_type": "code",
   "execution_count": 86,
   "id": "19b63f9b",
   "metadata": {},
   "outputs": [],
   "source": [
    "rfm['peak_order_%'] = rfm['peak_order_%'].round(0)"
   ]
  },
  {
   "cell_type": "code",
   "execution_count": 87,
   "id": "611da571",
   "metadata": {},
   "outputs": [],
   "source": [
    "rfm['peak_revenue_%'] = rfm['peak_revenue_%'].round(0)"
   ]
  },
  {
   "cell_type": "code",
   "execution_count": 88,
   "id": "da8bdeda",
   "metadata": {},
   "outputs": [],
   "source": [
    "rfm['peak_order_%'] = rfm['peak_order_%'].replace(0, 0.01)"
   ]
  },
  {
   "cell_type": "code",
   "execution_count": 89,
   "id": "e51e83c4",
   "metadata": {},
   "outputs": [],
   "source": [
    "rfm['peak_revenue_%'] = rfm['peak_revenue_%'].replace(0, 0.01)"
   ]
  },
  {
   "cell_type": "code",
   "execution_count": 90,
   "id": "08821f6b",
   "metadata": {},
   "outputs": [],
   "source": [
    "# as data is strongly skewed apply log tranformation\n",
    "rfm_l = np.log(rfm)"
   ]
  },
  {
   "cell_type": "code",
   "execution_count": 91,
   "id": "7979c47a",
   "metadata": {},
   "outputs": [
    {
     "data": {
      "text/html": [
       "<div>\n",
       "<style scoped>\n",
       "    .dataframe tbody tr th:only-of-type {\n",
       "        vertical-align: middle;\n",
       "    }\n",
       "\n",
       "    .dataframe tbody tr th {\n",
       "        vertical-align: top;\n",
       "    }\n",
       "\n",
       "    .dataframe thead th {\n",
       "        text-align: right;\n",
       "    }\n",
       "</style>\n",
       "<table border=\"1\" class=\"dataframe\">\n",
       "  <thead>\n",
       "    <tr style=\"text-align: right;\">\n",
       "      <th></th>\n",
       "      <th>Invoiced Sales Amount_year</th>\n",
       "      <th>Invoiced Sales Amount_peak</th>\n",
       "      <th>Sales Order Lines Count_year</th>\n",
       "      <th>Sales Order Lines Count_peak</th>\n",
       "      <th>peak_order_%</th>\n",
       "      <th>peak_revenue_%</th>\n",
       "    </tr>\n",
       "    <tr>\n",
       "      <th>Customer</th>\n",
       "      <th></th>\n",
       "      <th></th>\n",
       "      <th></th>\n",
       "      <th></th>\n",
       "      <th></th>\n",
       "      <th></th>\n",
       "    </tr>\n",
       "  </thead>\n",
       "  <tbody>\n",
       "    <tr>\n",
       "      <th>021484</th>\n",
       "      <td>9.062188</td>\n",
       "      <td>7.036148</td>\n",
       "      <td>4.736198</td>\n",
       "      <td>2.564949</td>\n",
       "      <td>2.397895</td>\n",
       "      <td>2.564949</td>\n",
       "    </tr>\n",
       "    <tr>\n",
       "      <th>021559</th>\n",
       "      <td>11.320372</td>\n",
       "      <td>10.174773</td>\n",
       "      <td>5.579730</td>\n",
       "      <td>4.709530</td>\n",
       "      <td>3.737670</td>\n",
       "      <td>3.465736</td>\n",
       "    </tr>\n",
       "    <tr>\n",
       "      <th>021900</th>\n",
       "      <td>7.942362</td>\n",
       "      <td>7.686621</td>\n",
       "      <td>3.970292</td>\n",
       "      <td>3.663562</td>\n",
       "      <td>4.304065</td>\n",
       "      <td>4.343805</td>\n",
       "    </tr>\n",
       "    <tr>\n",
       "      <th>022014</th>\n",
       "      <td>11.583486</td>\n",
       "      <td>10.236382</td>\n",
       "      <td>6.573680</td>\n",
       "      <td>5.288267</td>\n",
       "      <td>3.332205</td>\n",
       "      <td>3.258097</td>\n",
       "    </tr>\n",
       "    <tr>\n",
       "      <th>022337</th>\n",
       "      <td>8.112228</td>\n",
       "      <td>7.597898</td>\n",
       "      <td>3.258097</td>\n",
       "      <td>2.639057</td>\n",
       "      <td>3.988984</td>\n",
       "      <td>4.094345</td>\n",
       "    </tr>\n",
       "  </tbody>\n",
       "</table>\n",
       "</div>"
      ],
      "text/plain": [
       "          Invoiced Sales Amount_year  Invoiced Sales Amount_peak  \\\n",
       "Customer                                                           \n",
       "021484                      9.062188                    7.036148   \n",
       "021559                     11.320372                   10.174773   \n",
       "021900                      7.942362                    7.686621   \n",
       "022014                     11.583486                   10.236382   \n",
       "022337                      8.112228                    7.597898   \n",
       "\n",
       "          Sales Order Lines Count_year  Sales Order Lines Count_peak  \\\n",
       "Customer                                                               \n",
       "021484                        4.736198                      2.564949   \n",
       "021559                        5.579730                      4.709530   \n",
       "021900                        3.970292                      3.663562   \n",
       "022014                        6.573680                      5.288267   \n",
       "022337                        3.258097                      2.639057   \n",
       "\n",
       "          peak_order_%  peak_revenue_%  \n",
       "Customer                                \n",
       "021484        2.397895        2.564949  \n",
       "021559        3.737670        3.465736  \n",
       "021900        4.304065        4.343805  \n",
       "022014        3.332205        3.258097  \n",
       "022337        3.988984        4.094345  "
      ]
     },
     "execution_count": 91,
     "metadata": {},
     "output_type": "execute_result"
    }
   ],
   "source": [
    "rfm_l.head()"
   ]
  },
  {
   "cell_type": "code",
   "execution_count": 92,
   "id": "3a39a44d",
   "metadata": {},
   "outputs": [
    {
     "data": {
      "text/html": [
       "<div>\n",
       "<style scoped>\n",
       "    .dataframe tbody tr th:only-of-type {\n",
       "        vertical-align: middle;\n",
       "    }\n",
       "\n",
       "    .dataframe tbody tr th {\n",
       "        vertical-align: top;\n",
       "    }\n",
       "\n",
       "    .dataframe thead th {\n",
       "        text-align: right;\n",
       "    }\n",
       "</style>\n",
       "<table border=\"1\" class=\"dataframe\">\n",
       "  <thead>\n",
       "    <tr style=\"text-align: right;\">\n",
       "      <th></th>\n",
       "      <th>Invoiced Sales Amount_year</th>\n",
       "      <th>Invoiced Sales Amount_peak</th>\n",
       "      <th>Sales Order Lines Count_year</th>\n",
       "      <th>Sales Order Lines Count_peak</th>\n",
       "      <th>peak_order_%</th>\n",
       "      <th>peak_revenue_%</th>\n",
       "    </tr>\n",
       "  </thead>\n",
       "  <tbody>\n",
       "    <tr>\n",
       "      <th>count</th>\n",
       "      <td>2621.000000</td>\n",
       "      <td>2621.000000</td>\n",
       "      <td>2621.000000</td>\n",
       "      <td>2621.000000</td>\n",
       "      <td>2621.000000</td>\n",
       "      <td>2621.000000</td>\n",
       "    </tr>\n",
       "    <tr>\n",
       "      <th>mean</th>\n",
       "      <td>7.163262</td>\n",
       "      <td>5.970905</td>\n",
       "      <td>2.852154</td>\n",
       "      <td>1.792581</td>\n",
       "      <td>3.485781</td>\n",
       "      <td>3.462167</td>\n",
       "    </tr>\n",
       "    <tr>\n",
       "      <th>std</th>\n",
       "      <td>3.276810</td>\n",
       "      <td>3.455097</td>\n",
       "      <td>1.683897</td>\n",
       "      <td>1.809337</td>\n",
       "      <td>1.572782</td>\n",
       "      <td>1.711010</td>\n",
       "    </tr>\n",
       "    <tr>\n",
       "      <th>min</th>\n",
       "      <td>-4.605170</td>\n",
       "      <td>-4.605170</td>\n",
       "      <td>0.000000</td>\n",
       "      <td>-4.605170</td>\n",
       "      <td>-4.605170</td>\n",
       "      <td>-4.605170</td>\n",
       "    </tr>\n",
       "    <tr>\n",
       "      <th>25%</th>\n",
       "      <td>6.210600</td>\n",
       "      <td>5.220356</td>\n",
       "      <td>1.609438</td>\n",
       "      <td>0.693147</td>\n",
       "      <td>3.091042</td>\n",
       "      <td>3.091042</td>\n",
       "    </tr>\n",
       "    <tr>\n",
       "      <th>50%</th>\n",
       "      <td>7.732369</td>\n",
       "      <td>6.684612</td>\n",
       "      <td>2.890372</td>\n",
       "      <td>1.791759</td>\n",
       "      <td>3.806662</td>\n",
       "      <td>3.912023</td>\n",
       "    </tr>\n",
       "    <tr>\n",
       "      <th>75%</th>\n",
       "      <td>9.092457</td>\n",
       "      <td>7.909122</td>\n",
       "      <td>4.094345</td>\n",
       "      <td>2.944439</td>\n",
       "      <td>4.605170</td>\n",
       "      <td>4.605170</td>\n",
       "    </tr>\n",
       "    <tr>\n",
       "      <th>max</th>\n",
       "      <td>13.006387</td>\n",
       "      <td>11.493967</td>\n",
       "      <td>7.775276</td>\n",
       "      <td>6.533789</td>\n",
       "      <td>4.605170</td>\n",
       "      <td>4.941642</td>\n",
       "    </tr>\n",
       "  </tbody>\n",
       "</table>\n",
       "</div>"
      ],
      "text/plain": [
       "       Invoiced Sales Amount_year  Invoiced Sales Amount_peak  \\\n",
       "count                 2621.000000                 2621.000000   \n",
       "mean                     7.163262                    5.970905   \n",
       "std                      3.276810                    3.455097   \n",
       "min                     -4.605170                   -4.605170   \n",
       "25%                      6.210600                    5.220356   \n",
       "50%                      7.732369                    6.684612   \n",
       "75%                      9.092457                    7.909122   \n",
       "max                     13.006387                   11.493967   \n",
       "\n",
       "       Sales Order Lines Count_year  Sales Order Lines Count_peak  \\\n",
       "count                   2621.000000                   2621.000000   \n",
       "mean                       2.852154                      1.792581   \n",
       "std                        1.683897                      1.809337   \n",
       "min                        0.000000                     -4.605170   \n",
       "25%                        1.609438                      0.693147   \n",
       "50%                        2.890372                      1.791759   \n",
       "75%                        4.094345                      2.944439   \n",
       "max                        7.775276                      6.533789   \n",
       "\n",
       "       peak_order_%  peak_revenue_%  \n",
       "count   2621.000000     2621.000000  \n",
       "mean       3.485781        3.462167  \n",
       "std        1.572782        1.711010  \n",
       "min       -4.605170       -4.605170  \n",
       "25%        3.091042        3.091042  \n",
       "50%        3.806662        3.912023  \n",
       "75%        4.605170        4.605170  \n",
       "max        4.605170        4.941642  "
      ]
     },
     "execution_count": 92,
     "metadata": {},
     "output_type": "execute_result"
    }
   ],
   "source": [
    "rfm_l.describe()"
   ]
  },
  {
   "cell_type": "code",
   "execution_count": 93,
   "id": "fedab18d",
   "metadata": {},
   "outputs": [
    {
     "data": {
      "text/plain": [
       "Invoiced Sales Amount_year      2621\n",
       "Invoiced Sales Amount_peak      2621\n",
       "Sales Order Lines Count_year    2621\n",
       "Sales Order Lines Count_peak    2621\n",
       "peak_order_%                    2621\n",
       "peak_revenue_%                  2621\n",
       "dtype: int64"
      ]
     },
     "execution_count": 93,
     "metadata": {},
     "output_type": "execute_result"
    }
   ],
   "source": [
    "np.isfinite(rfm_l).sum()"
   ]
  },
  {
   "cell_type": "code",
   "execution_count": 94,
   "id": "becd91ca",
   "metadata": {},
   "outputs": [],
   "source": [
    "# normalize data\n",
    "\n",
    "from sklearn.preprocessing import StandardScaler\n",
    "scaler = StandardScaler()\n",
    "scaler.fit(rfm_l)\n",
    "rfm_normalized = scaler.transform(rfm_l)\n"
   ]
  },
  {
   "cell_type": "code",
   "execution_count": 95,
   "id": "77109398",
   "metadata": {},
   "outputs": [],
   "source": [
    "# apply index and columns from initial tidy data\n",
    "rfm_normalized = pd.DataFrame(data=rfm_normalized, index=rfm_l.index, columns=rfm.columns)"
   ]
  },
  {
   "cell_type": "code",
   "execution_count": 96,
   "id": "309021c6",
   "metadata": {},
   "outputs": [
    {
     "data": {
      "text/plain": [
       "Invoiced Sales Amount_year      0\n",
       "Invoiced Sales Amount_peak      0\n",
       "Sales Order Lines Count_year    0\n",
       "Sales Order Lines Count_peak    0\n",
       "peak_order_%                    0\n",
       "peak_revenue_%                  0\n",
       "dtype: int64"
      ]
     },
     "execution_count": 96,
     "metadata": {},
     "output_type": "execute_result"
    }
   ],
   "source": [
    "rfm_normalized.isna().sum()"
   ]
  },
  {
   "cell_type": "code",
   "execution_count": 97,
   "id": "54b70bc9",
   "metadata": {},
   "outputs": [
    {
     "data": {
      "text/plain": [
       "Invoiced Sales Amount_year      2621\n",
       "Invoiced Sales Amount_peak      2621\n",
       "Sales Order Lines Count_year    2621\n",
       "Sales Order Lines Count_peak    2621\n",
       "peak_order_%                    2621\n",
       "peak_revenue_%                  2621\n",
       "dtype: int64"
      ]
     },
     "execution_count": 97,
     "metadata": {},
     "output_type": "execute_result"
    }
   ],
   "source": [
    "np.isfinite(rfm_normalized).sum()"
   ]
  },
  {
   "cell_type": "code",
   "execution_count": 98,
   "id": "e82b8115",
   "metadata": {},
   "outputs": [
    {
     "data": {
      "text/html": [
       "<div>\n",
       "<style scoped>\n",
       "    .dataframe tbody tr th:only-of-type {\n",
       "        vertical-align: middle;\n",
       "    }\n",
       "\n",
       "    .dataframe tbody tr th {\n",
       "        vertical-align: top;\n",
       "    }\n",
       "\n",
       "    .dataframe thead th {\n",
       "        text-align: right;\n",
       "    }\n",
       "</style>\n",
       "<table border=\"1\" class=\"dataframe\">\n",
       "  <thead>\n",
       "    <tr style=\"text-align: right;\">\n",
       "      <th></th>\n",
       "      <th>Invoiced Sales Amount_year</th>\n",
       "      <th>Invoiced Sales Amount_peak</th>\n",
       "      <th>Sales Order Lines Count_year</th>\n",
       "      <th>Sales Order Lines Count_peak</th>\n",
       "      <th>peak_order_%</th>\n",
       "      <th>peak_revenue_%</th>\n",
       "    </tr>\n",
       "    <tr>\n",
       "      <th>Customer</th>\n",
       "      <th></th>\n",
       "      <th></th>\n",
       "      <th></th>\n",
       "      <th></th>\n",
       "      <th></th>\n",
       "      <th></th>\n",
       "    </tr>\n",
       "  </thead>\n",
       "  <tbody>\n",
       "    <tr>\n",
       "      <th>021484</th>\n",
       "      <td>0.579615</td>\n",
       "      <td>0.308370</td>\n",
       "      <td>1.119073</td>\n",
       "      <td>0.426960</td>\n",
       "      <td>-0.691827</td>\n",
       "      <td>-0.524479</td>\n",
       "    </tr>\n",
       "    <tr>\n",
       "      <th>021559</th>\n",
       "      <td>1.268888</td>\n",
       "      <td>1.216947</td>\n",
       "      <td>1.620109</td>\n",
       "      <td>1.612472</td>\n",
       "      <td>0.160185</td>\n",
       "      <td>0.002086</td>\n",
       "    </tr>\n",
       "    <tr>\n",
       "      <th>021900</th>\n",
       "      <td>0.237807</td>\n",
       "      <td>0.496670</td>\n",
       "      <td>0.664145</td>\n",
       "      <td>1.034267</td>\n",
       "      <td>0.520377</td>\n",
       "      <td>0.515372</td>\n",
       "    </tr>\n",
       "    <tr>\n",
       "      <th>022014</th>\n",
       "      <td>1.349199</td>\n",
       "      <td>1.234782</td>\n",
       "      <td>2.210489</td>\n",
       "      <td>1.932394</td>\n",
       "      <td>-0.097665</td>\n",
       "      <td>-0.119292</td>\n",
       "    </tr>\n",
       "    <tr>\n",
       "      <th>022337</th>\n",
       "      <td>0.289656</td>\n",
       "      <td>0.470986</td>\n",
       "      <td>0.241119</td>\n",
       "      <td>0.467927</td>\n",
       "      <td>0.320006</td>\n",
       "      <td>0.369547</td>\n",
       "    </tr>\n",
       "  </tbody>\n",
       "</table>\n",
       "</div>"
      ],
      "text/plain": [
       "          Invoiced Sales Amount_year  Invoiced Sales Amount_peak  \\\n",
       "Customer                                                           \n",
       "021484                      0.579615                    0.308370   \n",
       "021559                      1.268888                    1.216947   \n",
       "021900                      0.237807                    0.496670   \n",
       "022014                      1.349199                    1.234782   \n",
       "022337                      0.289656                    0.470986   \n",
       "\n",
       "          Sales Order Lines Count_year  Sales Order Lines Count_peak  \\\n",
       "Customer                                                               \n",
       "021484                        1.119073                      0.426960   \n",
       "021559                        1.620109                      1.612472   \n",
       "021900                        0.664145                      1.034267   \n",
       "022014                        2.210489                      1.932394   \n",
       "022337                        0.241119                      0.467927   \n",
       "\n",
       "          peak_order_%  peak_revenue_%  \n",
       "Customer                                \n",
       "021484       -0.691827       -0.524479  \n",
       "021559        0.160185        0.002086  \n",
       "021900        0.520377        0.515372  \n",
       "022014       -0.097665       -0.119292  \n",
       "022337        0.320006        0.369547  "
      ]
     },
     "execution_count": 98,
     "metadata": {},
     "output_type": "execute_result"
    }
   ],
   "source": [
    "rfm_normalized.head()"
   ]
  },
  {
   "cell_type": "code",
   "execution_count": 99,
   "id": "b758ccab",
   "metadata": {},
   "outputs": [
    {
     "data": {
      "text/html": [
       "<div>\n",
       "<style scoped>\n",
       "    .dataframe tbody tr th:only-of-type {\n",
       "        vertical-align: middle;\n",
       "    }\n",
       "\n",
       "    .dataframe tbody tr th {\n",
       "        vertical-align: top;\n",
       "    }\n",
       "\n",
       "    .dataframe thead th {\n",
       "        text-align: right;\n",
       "    }\n",
       "</style>\n",
       "<table border=\"1\" class=\"dataframe\">\n",
       "  <thead>\n",
       "    <tr style=\"text-align: right;\">\n",
       "      <th></th>\n",
       "      <th>Invoiced Sales Amount_year</th>\n",
       "      <th>Invoiced Sales Amount_peak</th>\n",
       "      <th>Sales Order Lines Count_year</th>\n",
       "      <th>Sales Order Lines Count_peak</th>\n",
       "      <th>peak_order_%</th>\n",
       "      <th>peak_revenue_%</th>\n",
       "    </tr>\n",
       "    <tr>\n",
       "      <th>Customer</th>\n",
       "      <th></th>\n",
       "      <th></th>\n",
       "      <th></th>\n",
       "      <th></th>\n",
       "      <th></th>\n",
       "      <th></th>\n",
       "    </tr>\n",
       "  </thead>\n",
       "  <tbody>\n",
       "    <tr>\n",
       "      <th>021484</th>\n",
       "      <td>9.062188</td>\n",
       "      <td>7.036148</td>\n",
       "      <td>4.736198</td>\n",
       "      <td>2.564949</td>\n",
       "      <td>2.397895</td>\n",
       "      <td>2.564949</td>\n",
       "    </tr>\n",
       "    <tr>\n",
       "      <th>021559</th>\n",
       "      <td>11.320372</td>\n",
       "      <td>10.174773</td>\n",
       "      <td>5.579730</td>\n",
       "      <td>4.709530</td>\n",
       "      <td>3.737670</td>\n",
       "      <td>3.465736</td>\n",
       "    </tr>\n",
       "    <tr>\n",
       "      <th>021900</th>\n",
       "      <td>7.942362</td>\n",
       "      <td>7.686621</td>\n",
       "      <td>3.970292</td>\n",
       "      <td>3.663562</td>\n",
       "      <td>4.304065</td>\n",
       "      <td>4.343805</td>\n",
       "    </tr>\n",
       "    <tr>\n",
       "      <th>022014</th>\n",
       "      <td>11.583486</td>\n",
       "      <td>10.236382</td>\n",
       "      <td>6.573680</td>\n",
       "      <td>5.288267</td>\n",
       "      <td>3.332205</td>\n",
       "      <td>3.258097</td>\n",
       "    </tr>\n",
       "    <tr>\n",
       "      <th>022337</th>\n",
       "      <td>8.112228</td>\n",
       "      <td>7.597898</td>\n",
       "      <td>3.258097</td>\n",
       "      <td>2.639057</td>\n",
       "      <td>3.988984</td>\n",
       "      <td>4.094345</td>\n",
       "    </tr>\n",
       "  </tbody>\n",
       "</table>\n",
       "</div>"
      ],
      "text/plain": [
       "          Invoiced Sales Amount_year  Invoiced Sales Amount_peak  \\\n",
       "Customer                                                           \n",
       "021484                      9.062188                    7.036148   \n",
       "021559                     11.320372                   10.174773   \n",
       "021900                      7.942362                    7.686621   \n",
       "022014                     11.583486                   10.236382   \n",
       "022337                      8.112228                    7.597898   \n",
       "\n",
       "          Sales Order Lines Count_year  Sales Order Lines Count_peak  \\\n",
       "Customer                                                               \n",
       "021484                        4.736198                      2.564949   \n",
       "021559                        5.579730                      4.709530   \n",
       "021900                        3.970292                      3.663562   \n",
       "022014                        6.573680                      5.288267   \n",
       "022337                        3.258097                      2.639057   \n",
       "\n",
       "          peak_order_%  peak_revenue_%  \n",
       "Customer                                \n",
       "021484        2.397895        2.564949  \n",
       "021559        3.737670        3.465736  \n",
       "021900        4.304065        4.343805  \n",
       "022014        3.332205        3.258097  \n",
       "022337        3.988984        4.094345  "
      ]
     },
     "execution_count": 99,
     "metadata": {},
     "output_type": "execute_result"
    }
   ],
   "source": [
    "rfm_l.head()"
   ]
  },
  {
   "cell_type": "code",
   "execution_count": 100,
   "id": "5bda19f5",
   "metadata": {},
   "outputs": [
    {
     "data": {
      "text/html": [
       "<div>\n",
       "<style scoped>\n",
       "    .dataframe tbody tr th:only-of-type {\n",
       "        vertical-align: middle;\n",
       "    }\n",
       "\n",
       "    .dataframe tbody tr th {\n",
       "        vertical-align: top;\n",
       "    }\n",
       "\n",
       "    .dataframe thead th {\n",
       "        text-align: right;\n",
       "    }\n",
       "</style>\n",
       "<table border=\"1\" class=\"dataframe\">\n",
       "  <thead>\n",
       "    <tr style=\"text-align: right;\">\n",
       "      <th></th>\n",
       "      <th>Invoiced Sales Amount_year</th>\n",
       "      <th>Invoiced Sales Amount_peak</th>\n",
       "      <th>Sales Order Lines Count_year</th>\n",
       "      <th>Sales Order Lines Count_peak</th>\n",
       "      <th>peak_order_%</th>\n",
       "      <th>peak_revenue_%</th>\n",
       "    </tr>\n",
       "    <tr>\n",
       "      <th>Customer</th>\n",
       "      <th></th>\n",
       "      <th></th>\n",
       "      <th></th>\n",
       "      <th></th>\n",
       "      <th></th>\n",
       "      <th></th>\n",
       "    </tr>\n",
       "  </thead>\n",
       "  <tbody>\n",
       "    <tr>\n",
       "      <th>021484</th>\n",
       "      <td>8623.0</td>\n",
       "      <td>1137.0</td>\n",
       "      <td>114.0</td>\n",
       "      <td>13.0</td>\n",
       "      <td>11.0</td>\n",
       "      <td>13.0</td>\n",
       "    </tr>\n",
       "    <tr>\n",
       "      <th>021559</th>\n",
       "      <td>82485.0</td>\n",
       "      <td>26233.0</td>\n",
       "      <td>265.0</td>\n",
       "      <td>111.0</td>\n",
       "      <td>42.0</td>\n",
       "      <td>32.0</td>\n",
       "    </tr>\n",
       "    <tr>\n",
       "      <th>021900</th>\n",
       "      <td>2814.0</td>\n",
       "      <td>2179.0</td>\n",
       "      <td>53.0</td>\n",
       "      <td>39.0</td>\n",
       "      <td>74.0</td>\n",
       "      <td>77.0</td>\n",
       "    </tr>\n",
       "    <tr>\n",
       "      <th>022014</th>\n",
       "      <td>107311.0</td>\n",
       "      <td>27900.0</td>\n",
       "      <td>716.0</td>\n",
       "      <td>198.0</td>\n",
       "      <td>28.0</td>\n",
       "      <td>26.0</td>\n",
       "    </tr>\n",
       "    <tr>\n",
       "      <th>022337</th>\n",
       "      <td>3335.0</td>\n",
       "      <td>1994.0</td>\n",
       "      <td>26.0</td>\n",
       "      <td>14.0</td>\n",
       "      <td>54.0</td>\n",
       "      <td>60.0</td>\n",
       "    </tr>\n",
       "  </tbody>\n",
       "</table>\n",
       "</div>"
      ],
      "text/plain": [
       "          Invoiced Sales Amount_year  Invoiced Sales Amount_peak  \\\n",
       "Customer                                                           \n",
       "021484                        8623.0                      1137.0   \n",
       "021559                       82485.0                     26233.0   \n",
       "021900                        2814.0                      2179.0   \n",
       "022014                      107311.0                     27900.0   \n",
       "022337                        3335.0                      1994.0   \n",
       "\n",
       "          Sales Order Lines Count_year  Sales Order Lines Count_peak  \\\n",
       "Customer                                                               \n",
       "021484                           114.0                          13.0   \n",
       "021559                           265.0                         111.0   \n",
       "021900                            53.0                          39.0   \n",
       "022014                           716.0                         198.0   \n",
       "022337                            26.0                          14.0   \n",
       "\n",
       "          peak_order_%  peak_revenue_%  \n",
       "Customer                                \n",
       "021484            11.0            13.0  \n",
       "021559            42.0            32.0  \n",
       "021900            74.0            77.0  \n",
       "022014            28.0            26.0  \n",
       "022337            54.0            60.0  "
      ]
     },
     "execution_count": 100,
     "metadata": {},
     "output_type": "execute_result"
    }
   ],
   "source": [
    "rfm.head()"
   ]
  },
  {
   "cell_type": "code",
   "execution_count": 101,
   "id": "50d6a118",
   "metadata": {},
   "outputs": [
    {
     "name": "stderr",
     "output_type": "stream",
     "text": [
      "C:\\Users\\hahafonova\\Anaconda3\\lib\\site-packages\\seaborn\\distributions.py:2557: FutureWarning: `distplot` is a deprecated function and will be removed in a future version. Please adapt your code to use either `displot` (a figure-level function with similar flexibility) or `histplot` (an axes-level function for histograms).\n",
      "  warnings.warn(msg, FutureWarning)\n",
      "C:\\Users\\hahafonova\\Anaconda3\\lib\\site-packages\\seaborn\\distributions.py:2557: FutureWarning: `distplot` is a deprecated function and will be removed in a future version. Please adapt your code to use either `displot` (a figure-level function with similar flexibility) or `histplot` (an axes-level function for histograms).\n",
      "  warnings.warn(msg, FutureWarning)\n",
      "C:\\Users\\hahafonova\\Anaconda3\\lib\\site-packages\\seaborn\\distributions.py:2557: FutureWarning: `distplot` is a deprecated function and will be removed in a future version. Please adapt your code to use either `displot` (a figure-level function with similar flexibility) or `histplot` (an axes-level function for histograms).\n",
      "  warnings.warn(msg, FutureWarning)\n",
      "C:\\Users\\hahafonova\\Anaconda3\\lib\\site-packages\\seaborn\\distributions.py:2557: FutureWarning: `distplot` is a deprecated function and will be removed in a future version. Please adapt your code to use either `displot` (a figure-level function with similar flexibility) or `histplot` (an axes-level function for histograms).\n",
      "  warnings.warn(msg, FutureWarning)\n"
     ]
    },
    {
     "data": {
      "image/png": "[encoded data removed]",
      "text/plain": [
       "<Figure size 432x288 with 4 Axes>"
      ]
     },
     "metadata": {
      "needs_background": "light"
     },
     "output_type": "display_data"
    }
   ],
   "source": [
    "# see the shape an distribution of normalized data\n",
    "\n",
    "plt.subplot(2, 2, 1); sns.distplot(rfm_normalized['Invoiced Sales Amount_year'])\n",
    "plt.subplot(2, 2, 2); sns.distplot(rfm_normalized['Sales Order Lines Count_year'])\n",
    "plt.subplot(2, 2, 3); sns.distplot(rfm_normalized['Invoiced Sales Amount_peak'])\n",
    "plt.subplot(2, 2, 4); sns.distplot(rfm_normalized['Sales Order Lines Count_peak'])\n",
    "plt.tight_layout()\n",
    "\n",
    "plt.show()"
   ]
  },
  {
   "cell_type": "code",
   "execution_count": 102,
   "id": "53d3cf18",
   "metadata": {},
   "outputs": [
    {
     "name": "stdout",
     "output_type": "stream",
     "text": [
      "Paste your cluster number: 4\n"
     ]
    }
   ],
   "source": [
    "# paste number of clusters to explore\n",
    "\n",
    "k = int(input('Paste your cluster number: '))"
   ]
  },
  {
   "cell_type": "code",
   "execution_count": 103,
   "id": "eac8e1e4",
   "metadata": {},
   "outputs": [],
   "source": [
    "# Initialize KMeans\n",
    "kmeans = KMeans(n_clusters=k, random_state=1) \n",
    "\n",
    "# Fit k-means clustering on the normalized data set\n",
    "kmeans.fit(rfm_normalized)\n",
    "\n",
    "# Extract cluster labels\n",
    "cluster_labels = kmeans.labels_"
   ]
  },
  {
   "cell_type": "code",
   "execution_count": 104,
   "id": "3ea2cbac",
   "metadata": {},
   "outputs": [],
   "source": [
    "rfm_index = rfm_l.index"
   ]
  },
  {
   "cell_type": "code",
   "execution_count": 105,
   "id": "5c87147f",
   "metadata": {},
   "outputs": [],
   "source": [
    "rfm = rfm.loc[rfm.index.isin(rfm_l.index)]"
   ]
  },
  {
   "cell_type": "code",
   "execution_count": 106,
   "id": "9baf02c6",
   "metadata": {},
   "outputs": [
    {
     "data": {
      "text/plain": [
       "(2621, 6)"
      ]
     },
     "execution_count": 106,
     "metadata": {},
     "output_type": "execute_result"
    }
   ],
   "source": [
    "rfm_l.shape"
   ]
  },
  {
   "cell_type": "code",
   "execution_count": 107,
   "id": "8618ae11",
   "metadata": {},
   "outputs": [
    {
     "data": {
      "text/plain": [
       "(2621, 6)"
      ]
     },
     "execution_count": 107,
     "metadata": {},
     "output_type": "execute_result"
    }
   ],
   "source": [
    "rfm_normalized.shape"
   ]
  },
  {
   "cell_type": "code",
   "execution_count": 108,
   "id": "fe46d363",
   "metadata": {},
   "outputs": [
    {
     "data": {
      "text/plain": [
       "2621"
      ]
     },
     "execution_count": 108,
     "metadata": {},
     "output_type": "execute_result"
    }
   ],
   "source": [
    "len(set(rfm.index))"
   ]
  },
  {
   "cell_type": "code",
   "execution_count": 109,
   "id": "82df55bf",
   "metadata": {},
   "outputs": [
    {
     "data": {
      "text/plain": [
       "2621"
      ]
     },
     "execution_count": 109,
     "metadata": {},
     "output_type": "execute_result"
    }
   ],
   "source": [
    "len(set(rfm_normalized.index))"
   ]
  },
  {
   "cell_type": "code",
   "execution_count": 110,
   "id": "c4704130",
   "metadata": {},
   "outputs": [
    {
     "data": {
      "text/plain": [
       "0"
      ]
     },
     "execution_count": 110,
     "metadata": {},
     "output_type": "execute_result"
    }
   ],
   "source": [
    "rfm.index.duplicated().sum()"
   ]
  },
  {
   "cell_type": "code",
   "execution_count": 111,
   "id": "0989cd0e",
   "metadata": {},
   "outputs": [],
   "source": [
    "# SNAKE Create a DataFrame by adding a new cluster label column\n",
    "\n",
    "rfm_kn = rfm.assign(Cluster=cluster_labels)"
   ]
  },
  {
   "cell_type": "code",
   "execution_count": 156,
   "id": "6f3bde21",
   "metadata": {},
   "outputs": [],
   "source": [
    "rfm_kn['$_per_line_year'] = round(rfm_kn['Invoiced Sales Amount_year'] / rfm_kn['Sales Order Lines Count_year'],2)"
   ]
  },
  {
   "cell_type": "code",
   "execution_count": 157,
   "id": "385b2d68",
   "metadata": {},
   "outputs": [],
   "source": [
    "rfm_kn['$_per_line_peak'] = round(rfm_kn['Invoiced Sales Amount_peak'] / rfm_kn['Sales Order Lines Count_peak'],2)"
   ]
  },
  {
   "cell_type": "code",
   "execution_count": 158,
   "id": "8809e227",
   "metadata": {},
   "outputs": [
    {
     "data": {
      "text/html": [
       "<div>\n",
       "<style scoped>\n",
       "    .dataframe tbody tr th:only-of-type {\n",
       "        vertical-align: middle;\n",
       "    }\n",
       "\n",
       "    .dataframe tbody tr th {\n",
       "        vertical-align: top;\n",
       "    }\n",
       "\n",
       "    .dataframe thead th {\n",
       "        text-align: right;\n",
       "    }\n",
       "</style>\n",
       "<table border=\"1\" class=\"dataframe\">\n",
       "  <thead>\n",
       "    <tr style=\"text-align: right;\">\n",
       "      <th></th>\n",
       "      <th>Invoiced Sales Amount_year</th>\n",
       "      <th>Invoiced Sales Amount_peak</th>\n",
       "      <th>Sales Order Lines Count_year</th>\n",
       "      <th>Sales Order Lines Count_peak</th>\n",
       "      <th>peak_order_%</th>\n",
       "      <th>peak_revenue_%</th>\n",
       "      <th>Cluster</th>\n",
       "      <th>$_per_line_year</th>\n",
       "      <th>$_per_line_peak</th>\n",
       "    </tr>\n",
       "    <tr>\n",
       "      <th>Customer</th>\n",
       "      <th></th>\n",
       "      <th></th>\n",
       "      <th></th>\n",
       "      <th></th>\n",
       "      <th></th>\n",
       "      <th></th>\n",
       "      <th></th>\n",
       "      <th></th>\n",
       "      <th></th>\n",
       "    </tr>\n",
       "  </thead>\n",
       "  <tbody>\n",
       "    <tr>\n",
       "      <th>021484</th>\n",
       "      <td>8623.0</td>\n",
       "      <td>1137.0</td>\n",
       "      <td>114.0</td>\n",
       "      <td>13.0</td>\n",
       "      <td>11.0</td>\n",
       "      <td>13.0</td>\n",
       "      <td>1</td>\n",
       "      <td>75.64</td>\n",
       "      <td>87.46</td>\n",
       "    </tr>\n",
       "    <tr>\n",
       "      <th>021559</th>\n",
       "      <td>82485.0</td>\n",
       "      <td>26233.0</td>\n",
       "      <td>265.0</td>\n",
       "      <td>111.0</td>\n",
       "      <td>42.0</td>\n",
       "      <td>32.0</td>\n",
       "      <td>1</td>\n",
       "      <td>311.26</td>\n",
       "      <td>236.33</td>\n",
       "    </tr>\n",
       "    <tr>\n",
       "      <th>021900</th>\n",
       "      <td>2814.0</td>\n",
       "      <td>2179.0</td>\n",
       "      <td>53.0</td>\n",
       "      <td>39.0</td>\n",
       "      <td>74.0</td>\n",
       "      <td>77.0</td>\n",
       "      <td>1</td>\n",
       "      <td>53.09</td>\n",
       "      <td>55.87</td>\n",
       "    </tr>\n",
       "    <tr>\n",
       "      <th>022014</th>\n",
       "      <td>107311.0</td>\n",
       "      <td>27900.0</td>\n",
       "      <td>716.0</td>\n",
       "      <td>198.0</td>\n",
       "      <td>28.0</td>\n",
       "      <td>26.0</td>\n",
       "      <td>1</td>\n",
       "      <td>149.88</td>\n",
       "      <td>140.91</td>\n",
       "    </tr>\n",
       "    <tr>\n",
       "      <th>022337</th>\n",
       "      <td>3335.0</td>\n",
       "      <td>1994.0</td>\n",
       "      <td>26.0</td>\n",
       "      <td>14.0</td>\n",
       "      <td>54.0</td>\n",
       "      <td>60.0</td>\n",
       "      <td>1</td>\n",
       "      <td>128.27</td>\n",
       "      <td>142.43</td>\n",
       "    </tr>\n",
       "  </tbody>\n",
       "</table>\n",
       "</div>"
      ],
      "text/plain": [
       "          Invoiced Sales Amount_year  Invoiced Sales Amount_peak  \\\n",
       "Customer                                                           \n",
       "021484                        8623.0                      1137.0   \n",
       "021559                       82485.0                     26233.0   \n",
       "021900                        2814.0                      2179.0   \n",
       "022014                      107311.0                     27900.0   \n",
       "022337                        3335.0                      1994.0   \n",
       "\n",
       "          Sales Order Lines Count_year  Sales Order Lines Count_peak  \\\n",
       "Customer                                                               \n",
       "021484                           114.0                          13.0   \n",
       "021559                           265.0                         111.0   \n",
       "021900                            53.0                          39.0   \n",
       "022014                           716.0                         198.0   \n",
       "022337                            26.0                          14.0   \n",
       "\n",
       "          peak_order_%  peak_revenue_%  Cluster  $_per_line_year  \\\n",
       "Customer                                                           \n",
       "021484            11.0            13.0        1            75.64   \n",
       "021559            42.0            32.0        1           311.26   \n",
       "021900            74.0            77.0        1            53.09   \n",
       "022014            28.0            26.0        1           149.88   \n",
       "022337            54.0            60.0        1           128.27   \n",
       "\n",
       "          $_per_line_peak  \n",
       "Customer                   \n",
       "021484              87.46  \n",
       "021559             236.33  \n",
       "021900              55.87  \n",
       "022014             140.91  \n",
       "022337             142.43  "
      ]
     },
     "execution_count": 158,
     "metadata": {},
     "output_type": "execute_result"
    }
   ],
   "source": [
    "rfm_kn.head()"
   ]
  },
  {
   "cell_type": "code",
   "execution_count": 161,
   "id": "2bcf4076",
   "metadata": {},
   "outputs": [
    {
     "data": {
      "text/html": [
       "<div>\n",
       "<style scoped>\n",
       "    .dataframe tbody tr th:only-of-type {\n",
       "        vertical-align: middle;\n",
       "    }\n",
       "\n",
       "    .dataframe tbody tr th {\n",
       "        vertical-align: top;\n",
       "    }\n",
       "\n",
       "    .dataframe thead th {\n",
       "        text-align: right;\n",
       "    }\n",
       "</style>\n",
       "<table border=\"1\" class=\"dataframe\">\n",
       "  <thead>\n",
       "    <tr style=\"text-align: right;\">\n",
       "      <th></th>\n",
       "      <th>Count</th>\n",
       "      <th>Avg Sales Amount (Year)</th>\n",
       "      <th>Avg Peak Revenue (%)</th>\n",
       "      <th>Avg Peak Line Count (%)</th>\n",
       "      <th>Avg Revenue / Line Year ($)</th>\n",
       "      <th>Avg Revenue / Line Peak ($)</th>\n",
       "    </tr>\n",
       "    <tr>\n",
       "      <th>Cluster</th>\n",
       "      <th></th>\n",
       "      <th></th>\n",
       "      <th></th>\n",
       "      <th></th>\n",
       "      <th></th>\n",
       "      <th></th>\n",
       "    </tr>\n",
       "  </thead>\n",
       "  <tbody>\n",
       "    <tr>\n",
       "      <th>0</th>\n",
       "      <td>1104</td>\n",
       "      <td>1313.0</td>\n",
       "      <td>72.0</td>\n",
       "      <td>75.0</td>\n",
       "      <td>289.0</td>\n",
       "      <td>331.0</td>\n",
       "    </tr>\n",
       "    <tr>\n",
       "      <th>1</th>\n",
       "      <td>1252</td>\n",
       "      <td>20272.0</td>\n",
       "      <td>37.0</td>\n",
       "      <td>37.0</td>\n",
       "      <td>179.0</td>\n",
       "      <td>202.0</td>\n",
       "    </tr>\n",
       "    <tr>\n",
       "      <th>2</th>\n",
       "      <td>76</td>\n",
       "      <td>5685.0</td>\n",
       "      <td>0.0</td>\n",
       "      <td>62.0</td>\n",
       "      <td>811.0</td>\n",
       "      <td>332753.0</td>\n",
       "    </tr>\n",
       "    <tr>\n",
       "      <th>3</th>\n",
       "      <td>189</td>\n",
       "      <td>1330.0</td>\n",
       "      <td>74.0</td>\n",
       "      <td>65.0</td>\n",
       "      <td>66.0</td>\n",
       "      <td>0.0</td>\n",
       "    </tr>\n",
       "  </tbody>\n",
       "</table>\n",
       "</div>"
      ],
      "text/plain": [
       "         Count  Avg Sales Amount (Year)  Avg Peak Revenue (%)  \\\n",
       "Cluster                                                         \n",
       "0         1104                   1313.0                  72.0   \n",
       "1         1252                  20272.0                  37.0   \n",
       "2           76                   5685.0                   0.0   \n",
       "3          189                   1330.0                  74.0   \n",
       "\n",
       "         Avg Peak Line Count (%)  Avg Revenue / Line Year ($)  \\\n",
       "Cluster                                                         \n",
       "0                           75.0                        289.0   \n",
       "1                           37.0                        179.0   \n",
       "2                           62.0                        811.0   \n",
       "3                           65.0                         66.0   \n",
       "\n",
       "         Avg Revenue / Line Peak ($)  \n",
       "Cluster                               \n",
       "0                              331.0  \n",
       "1                              202.0  \n",
       "2                           332753.0  \n",
       "3                                0.0  "
      ]
     },
     "execution_count": 161,
     "metadata": {},
     "output_type": "execute_result"
    }
   ],
   "source": [
    "# Group the data by cluster\n",
    "grouped = rfm_kn.groupby(['Cluster'])\n",
    "\n",
    "# Calculate average RFM values and segment sizes per cluster value\n",
    "output_table = grouped.agg({\n",
    "    'Invoiced Sales Amount_year': ['count', 'mean'],\n",
    "    'peak_order_%': 'mean',\n",
    "    'peak_revenue_%': 'mean',\n",
    "    '$_per_line_year':'mean',\n",
    "    '$_per_line_peak':'mean'\n",
    "  }).round(0)\n",
    "\n",
    "output_table.columns = ['Count', 'Avg Sales Amount (Year)', 'Avg Peak Revenue (%)', 'Avg Peak Line Count (%)', \n",
    "                        'Avg Revenue / Line Year ($)', 'Avg Revenue / Line Peak ($)']\n",
    "\n",
    "# Add comments to the table using the index values\n",
    "#output_table['Comment'] = []\n",
    "\n",
    "output_table.head()"
   ]
  },
  {
   "cell_type": "markdown",
   "id": "bfc15fce",
   "metadata": {},
   "source": [
    "# SNAKE"
   ]
  },
  {
   "cell_type": "code",
   "execution_count": 113,
   "id": "8288b22a",
   "metadata": {},
   "outputs": [
    {
     "data": {
      "text/plain": [
       "Index(['021484', '021559', '021900', '022014', '022337', '022362', '022407',\n",
       "       '022417', '022597', '022845',\n",
       "       ...\n",
       "       '347934', '347935', '347937', '347938', '347939', '347941', '347942',\n",
       "       '347943', '347945', '347946'],\n",
       "      dtype='object', name='Customer', length=2621)"
      ]
     },
     "execution_count": 113,
     "metadata": {},
     "output_type": "execute_result"
    }
   ],
   "source": [
    "rfm_kn.index"
   ]
  },
  {
   "cell_type": "code",
   "execution_count": 114,
   "id": "3ec82f97",
   "metadata": {},
   "outputs": [],
   "source": [
    "rfm_normalized.index = rfm_kn.index"
   ]
  },
  {
   "cell_type": "code",
   "execution_count": 115,
   "id": "432d390c",
   "metadata": {},
   "outputs": [],
   "source": [
    "rfm_normalized['Cluster'] = rfm_kn['Cluster']"
   ]
  },
  {
   "cell_type": "code",
   "execution_count": 116,
   "id": "355c857a",
   "metadata": {},
   "outputs": [
    {
     "data": {
      "text/html": [
       "<div>\n",
       "<style scoped>\n",
       "    .dataframe tbody tr th:only-of-type {\n",
       "        vertical-align: middle;\n",
       "    }\n",
       "\n",
       "    .dataframe tbody tr th {\n",
       "        vertical-align: top;\n",
       "    }\n",
       "\n",
       "    .dataframe thead th {\n",
       "        text-align: right;\n",
       "    }\n",
       "</style>\n",
       "<table border=\"1\" class=\"dataframe\">\n",
       "  <thead>\n",
       "    <tr style=\"text-align: right;\">\n",
       "      <th></th>\n",
       "      <th>Invoiced Sales Amount_year</th>\n",
       "      <th>Invoiced Sales Amount_peak</th>\n",
       "      <th>Sales Order Lines Count_year</th>\n",
       "      <th>Sales Order Lines Count_peak</th>\n",
       "      <th>peak_order_%</th>\n",
       "      <th>peak_revenue_%</th>\n",
       "      <th>Cluster</th>\n",
       "    </tr>\n",
       "    <tr>\n",
       "      <th>Customer</th>\n",
       "      <th></th>\n",
       "      <th></th>\n",
       "      <th></th>\n",
       "      <th></th>\n",
       "      <th></th>\n",
       "      <th></th>\n",
       "      <th></th>\n",
       "    </tr>\n",
       "  </thead>\n",
       "  <tbody>\n",
       "    <tr>\n",
       "      <th>021484</th>\n",
       "      <td>0.579615</td>\n",
       "      <td>0.308370</td>\n",
       "      <td>1.119073</td>\n",
       "      <td>0.426960</td>\n",
       "      <td>-0.691827</td>\n",
       "      <td>-0.524479</td>\n",
       "      <td>1</td>\n",
       "    </tr>\n",
       "    <tr>\n",
       "      <th>021559</th>\n",
       "      <td>1.268888</td>\n",
       "      <td>1.216947</td>\n",
       "      <td>1.620109</td>\n",
       "      <td>1.612472</td>\n",
       "      <td>0.160185</td>\n",
       "      <td>0.002086</td>\n",
       "      <td>1</td>\n",
       "    </tr>\n",
       "    <tr>\n",
       "      <th>021900</th>\n",
       "      <td>0.237807</td>\n",
       "      <td>0.496670</td>\n",
       "      <td>0.664145</td>\n",
       "      <td>1.034267</td>\n",
       "      <td>0.520377</td>\n",
       "      <td>0.515372</td>\n",
       "      <td>1</td>\n",
       "    </tr>\n",
       "    <tr>\n",
       "      <th>022014</th>\n",
       "      <td>1.349199</td>\n",
       "      <td>1.234782</td>\n",
       "      <td>2.210489</td>\n",
       "      <td>1.932394</td>\n",
       "      <td>-0.097665</td>\n",
       "      <td>-0.119292</td>\n",
       "      <td>1</td>\n",
       "    </tr>\n",
       "    <tr>\n",
       "      <th>022337</th>\n",
       "      <td>0.289656</td>\n",
       "      <td>0.470986</td>\n",
       "      <td>0.241119</td>\n",
       "      <td>0.467927</td>\n",
       "      <td>0.320006</td>\n",
       "      <td>0.369547</td>\n",
       "      <td>1</td>\n",
       "    </tr>\n",
       "  </tbody>\n",
       "</table>\n",
       "</div>"
      ],
      "text/plain": [
       "          Invoiced Sales Amount_year  Invoiced Sales Amount_peak  \\\n",
       "Customer                                                           \n",
       "021484                      0.579615                    0.308370   \n",
       "021559                      1.268888                    1.216947   \n",
       "021900                      0.237807                    0.496670   \n",
       "022014                      1.349199                    1.234782   \n",
       "022337                      0.289656                    0.470986   \n",
       "\n",
       "          Sales Order Lines Count_year  Sales Order Lines Count_peak  \\\n",
       "Customer                                                               \n",
       "021484                        1.119073                      0.426960   \n",
       "021559                        1.620109                      1.612472   \n",
       "021900                        0.664145                      1.034267   \n",
       "022014                        2.210489                      1.932394   \n",
       "022337                        0.241119                      0.467927   \n",
       "\n",
       "          peak_order_%  peak_revenue_%  Cluster  \n",
       "Customer                                         \n",
       "021484       -0.691827       -0.524479        1  \n",
       "021559        0.160185        0.002086        1  \n",
       "021900        0.520377        0.515372        1  \n",
       "022014       -0.097665       -0.119292        1  \n",
       "022337        0.320006        0.369547        1  "
      ]
     },
     "execution_count": 116,
     "metadata": {},
     "output_type": "execute_result"
    }
   ],
   "source": [
    "rfm_normalized.head()"
   ]
  },
  {
   "cell_type": "code",
   "execution_count": 120,
   "id": "9a7bfffd",
   "metadata": {},
   "outputs": [],
   "source": [
    "# Melt the normalized dataset and reset the index\n",
    "rfm_n_melt1 = pd.melt(rfm_normalized.reset_index(), \n",
    "                        \n",
    "# Assign CustomerID and Cluster as ID variables                  \n",
    "                    id_vars=['Cluster'],\n",
    "\n",
    "# Assign RFM values as value variables\n",
    "                    value_vars=['peak_revenue_%', 'Invoiced Sales Amount_peak', 'peak_order_%'], \n",
    "                        \n",
    "# Name the variable and value\n",
    "                    var_name='Attribute', value_name='Value')"
   ]
  },
  {
   "cell_type": "code",
   "execution_count": 162,
   "id": "43d398fc",
   "metadata": {},
   "outputs": [
    {
     "data": {
      "image/png": "[encoded data removed]",
      "text/plain": [
       "<Figure size 864x432 with 1 Axes>"
      ]
     },
     "metadata": {
      "needs_background": "light"
     },
     "output_type": "display_data"
    }
   ],
   "source": [
    "plt.subplots(figsize=(12, 6))\n",
    "plt.title('Snake plot of normalized variables', fontsize=16, fontweight='bold')\n",
    "sns.lineplot(x='Attribute', y='Value', hue='Cluster', style='Cluster', data=rfm_n_melt1, palette=['k', 'b', 'g', 'r'])\n",
    "# Add the x axis label\n",
    "#plt.xlabel('Metric')\n",
    "# Add the y axis label\n",
    "#plt.ylabel('Value')\n",
    "# Plot a line for each value of the cluster variable\n",
    "\n",
    "plt.show()"
   ]
  },
  {
   "cell_type": "code",
   "execution_count": 163,
   "id": "4e0f1a8e",
   "metadata": {},
   "outputs": [
    {
     "data": {
      "text/html": [
       "<div>\n",
       "<style scoped>\n",
       "    .dataframe tbody tr th:only-of-type {\n",
       "        vertical-align: middle;\n",
       "    }\n",
       "\n",
       "    .dataframe tbody tr th {\n",
       "        vertical-align: top;\n",
       "    }\n",
       "\n",
       "    .dataframe thead th {\n",
       "        text-align: right;\n",
       "    }\n",
       "</style>\n",
       "<table border=\"1\" class=\"dataframe\">\n",
       "  <thead>\n",
       "    <tr style=\"text-align: right;\">\n",
       "      <th></th>\n",
       "      <th>Cluster</th>\n",
       "      <th>Attribute</th>\n",
       "      <th>Value</th>\n",
       "    </tr>\n",
       "  </thead>\n",
       "  <tbody>\n",
       "    <tr>\n",
       "      <th>0</th>\n",
       "      <td>1</td>\n",
       "      <td>peak_revenue_%</td>\n",
       "      <td>-0.524479</td>\n",
       "    </tr>\n",
       "    <tr>\n",
       "      <th>1</th>\n",
       "      <td>1</td>\n",
       "      <td>peak_revenue_%</td>\n",
       "      <td>0.002086</td>\n",
       "    </tr>\n",
       "    <tr>\n",
       "      <th>2</th>\n",
       "      <td>1</td>\n",
       "      <td>peak_revenue_%</td>\n",
       "      <td>0.515372</td>\n",
       "    </tr>\n",
       "    <tr>\n",
       "      <th>3</th>\n",
       "      <td>1</td>\n",
       "      <td>peak_revenue_%</td>\n",
       "      <td>-0.119292</td>\n",
       "    </tr>\n",
       "    <tr>\n",
       "      <th>4</th>\n",
       "      <td>1</td>\n",
       "      <td>peak_revenue_%</td>\n",
       "      <td>0.369547</td>\n",
       "    </tr>\n",
       "  </tbody>\n",
       "</table>\n",
       "</div>"
      ],
      "text/plain": [
       "   Cluster       Attribute     Value\n",
       "0        1  peak_revenue_% -0.524479\n",
       "1        1  peak_revenue_%  0.002086\n",
       "2        1  peak_revenue_%  0.515372\n",
       "3        1  peak_revenue_% -0.119292\n",
       "4        1  peak_revenue_%  0.369547"
      ]
     },
     "execution_count": 163,
     "metadata": {},
     "output_type": "execute_result"
    }
   ],
   "source": [
    "rfm_n_melt1.head()"
   ]
  },
  {
   "cell_type": "markdown",
   "id": "99445403",
   "metadata": {},
   "source": [
    "# ELBOW"
   ]
  },
  {
   "cell_type": "code",
   "execution_count": 164,
   "id": "1602ab7f",
   "metadata": {},
   "outputs": [],
   "source": [
    "# Fit KMeans and calculate Sum of Squared Errors for each k\n",
    "sse = {}\n",
    "\n",
    "for k in range(1, 10):\n",
    "  \n",
    "    # Initialize KMeans with k clusters\n",
    "    kmeans = KMeans(n_clusters=k, random_state=1)\n",
    "    \n",
    "    # Fit KMeans on the normalized dataset\n",
    "    kmeans.fit(rfm_normalized)\n",
    "    \n",
    "    # Assign sum of squared distances to k element of dictionary\n",
    "    sse[k] = kmeans.inertia_"
   ]
  },
  {
   "cell_type": "code",
   "execution_count": 165,
   "id": "a222f5a5",
   "metadata": {},
   "outputs": [
    {
     "data": {
      "image/png": "[encoded data removed]",
      "text/plain": [
       "<Figure size 432x288 with 1 Axes>"
      ]
     },
     "metadata": {
      "needs_background": "light"
     },
     "output_type": "display_data"
    }
   ],
   "source": [
    "# Add the plot title \"The Elbow Method\"\n",
    "plt.title('The Elbow Method')\n",
    "\n",
    "# Add X-axis label \"k\"\n",
    "plt.xlabel('k')\n",
    "\n",
    "# Add Y-axis label \"SSE\"\n",
    "plt.ylabel('Sum of Squared Distances')\n",
    "\n",
    "# Plot SSE values for each key in the dictionary\n",
    "sns.pointplot(x=list(sse.keys()), y=list(sse.values()))\n",
    "plt.show()"
   ]
  },
  {
   "cell_type": "code",
   "execution_count": 166,
   "id": "6053cdf4",
   "metadata": {},
   "outputs": [
    {
     "data": {
      "text/html": [
       "<div>\n",
       "<style scoped>\n",
       "    .dataframe tbody tr th:only-of-type {\n",
       "        vertical-align: middle;\n",
       "    }\n",
       "\n",
       "    .dataframe tbody tr th {\n",
       "        vertical-align: top;\n",
       "    }\n",
       "\n",
       "    .dataframe thead th {\n",
       "        text-align: right;\n",
       "    }\n",
       "</style>\n",
       "<table border=\"1\" class=\"dataframe\">\n",
       "  <thead>\n",
       "    <tr style=\"text-align: right;\">\n",
       "      <th></th>\n",
       "      <th>Invoiced Sales Amount_year</th>\n",
       "      <th>Invoiced Sales Amount_peak</th>\n",
       "      <th>Sales Order Lines Count_year</th>\n",
       "      <th>Sales Order Lines Count_peak</th>\n",
       "      <th>peak_order_%</th>\n",
       "      <th>peak_revenue_%</th>\n",
       "      <th>$_per_line_year</th>\n",
       "      <th>$_per_line_peak</th>\n",
       "    </tr>\n",
       "    <tr>\n",
       "      <th>Cluster</th>\n",
       "      <th></th>\n",
       "      <th></th>\n",
       "      <th></th>\n",
       "      <th></th>\n",
       "      <th></th>\n",
       "      <th></th>\n",
       "      <th></th>\n",
       "      <th></th>\n",
       "    </tr>\n",
       "  </thead>\n",
       "  <tbody>\n",
       "    <tr>\n",
       "      <th>0</th>\n",
       "      <td>1104</td>\n",
       "      <td>1104</td>\n",
       "      <td>1104</td>\n",
       "      <td>1104</td>\n",
       "      <td>1104</td>\n",
       "      <td>1104</td>\n",
       "      <td>1104</td>\n",
       "      <td>1104</td>\n",
       "    </tr>\n",
       "    <tr>\n",
       "      <th>1</th>\n",
       "      <td>1252</td>\n",
       "      <td>1252</td>\n",
       "      <td>1252</td>\n",
       "      <td>1252</td>\n",
       "      <td>1252</td>\n",
       "      <td>1252</td>\n",
       "      <td>1252</td>\n",
       "      <td>1252</td>\n",
       "    </tr>\n",
       "    <tr>\n",
       "      <th>2</th>\n",
       "      <td>76</td>\n",
       "      <td>76</td>\n",
       "      <td>76</td>\n",
       "      <td>76</td>\n",
       "      <td>76</td>\n",
       "      <td>76</td>\n",
       "      <td>76</td>\n",
       "      <td>76</td>\n",
       "    </tr>\n",
       "    <tr>\n",
       "      <th>3</th>\n",
       "      <td>189</td>\n",
       "      <td>189</td>\n",
       "      <td>189</td>\n",
       "      <td>189</td>\n",
       "      <td>189</td>\n",
       "      <td>189</td>\n",
       "      <td>189</td>\n",
       "      <td>189</td>\n",
       "    </tr>\n",
       "  </tbody>\n",
       "</table>\n",
       "</div>"
      ],
      "text/plain": [
       "         Invoiced Sales Amount_year  Invoiced Sales Amount_peak  \\\n",
       "Cluster                                                           \n",
       "0                              1104                        1104   \n",
       "1                              1252                        1252   \n",
       "2                                76                          76   \n",
       "3                               189                         189   \n",
       "\n",
       "         Sales Order Lines Count_year  Sales Order Lines Count_peak  \\\n",
       "Cluster                                                               \n",
       "0                                1104                          1104   \n",
       "1                                1252                          1252   \n",
       "2                                  76                            76   \n",
       "3                                 189                           189   \n",
       "\n",
       "         peak_order_%  peak_revenue_%  $_per_line_year  $_per_line_peak  \n",
       "Cluster                                                                  \n",
       "0                1104            1104             1104             1104  \n",
       "1                1252            1252             1252             1252  \n",
       "2                  76              76               76               76  \n",
       "3                 189             189              189              189  "
      ]
     },
     "execution_count": 166,
     "metadata": {},
     "output_type": "execute_result"
    }
   ],
   "source": [
    "rfm_kn.groupby('Cluster').count()"
   ]
  },
  {
   "cell_type": "code",
   "execution_count": 169,
   "id": "2f023881",
   "metadata": {},
   "outputs": [
    {
     "data": {
      "text/plain": [
       "Invoiced Sales Amount_year      445248.00\n",
       "Invoiced Sales Amount_peak       98122.00\n",
       "Sales Order Lines Count_year      2381.00\n",
       "Sales Order Lines Count_peak       688.00\n",
       "peak_order_%                       100.00\n",
       "peak_revenue_%                     100.00\n",
       "Cluster                              1.00\n",
       "$_per_line_year                   4741.93\n",
       "$_per_line_peak                  18949.00\n",
       "dtype: float64"
      ]
     },
     "execution_count": 169,
     "metadata": {},
     "output_type": "execute_result"
    }
   ],
   "source": [
    "rfm_kn[rfm_kn.Cluster == 1].max()"
   ]
  },
  {
   "cell_type": "code",
   "execution_count": 170,
   "id": "b74b27fc",
   "metadata": {},
   "outputs": [
    {
     "data": {
      "text/html": [
       "<div>\n",
       "<style scoped>\n",
       "    .dataframe tbody tr th:only-of-type {\n",
       "        vertical-align: middle;\n",
       "    }\n",
       "\n",
       "    .dataframe tbody tr th {\n",
       "        vertical-align: top;\n",
       "    }\n",
       "\n",
       "    .dataframe thead th {\n",
       "        text-align: right;\n",
       "    }\n",
       "</style>\n",
       "<table border=\"1\" class=\"dataframe\">\n",
       "  <thead>\n",
       "    <tr style=\"text-align: right;\">\n",
       "      <th></th>\n",
       "      <th>Customer</th>\n",
       "      <th>Invoiced Sales Amount_year</th>\n",
       "      <th>Invoiced Sales Amount_peak</th>\n",
       "      <th>Sales Order Lines Count_year</th>\n",
       "      <th>Sales Order Lines Count_peak</th>\n",
       "      <th>peak_order_%</th>\n",
       "      <th>peak_revenue_%</th>\n",
       "      <th>Cluster</th>\n",
       "      <th>$_per_line_year</th>\n",
       "      <th>$_per_line_peak</th>\n",
       "    </tr>\n",
       "  </thead>\n",
       "  <tbody>\n",
       "    <tr>\n",
       "      <th>0</th>\n",
       "      <td>021484</td>\n",
       "      <td>8623.00</td>\n",
       "      <td>1137.00</td>\n",
       "      <td>114.0</td>\n",
       "      <td>13.0</td>\n",
       "      <td>11.0</td>\n",
       "      <td>13.0</td>\n",
       "      <td>1</td>\n",
       "      <td>75.64</td>\n",
       "      <td>87.46</td>\n",
       "    </tr>\n",
       "    <tr>\n",
       "      <th>1</th>\n",
       "      <td>021559</td>\n",
       "      <td>82485.00</td>\n",
       "      <td>26233.00</td>\n",
       "      <td>265.0</td>\n",
       "      <td>111.0</td>\n",
       "      <td>42.0</td>\n",
       "      <td>32.0</td>\n",
       "      <td>1</td>\n",
       "      <td>311.26</td>\n",
       "      <td>236.33</td>\n",
       "    </tr>\n",
       "    <tr>\n",
       "      <th>2</th>\n",
       "      <td>021900</td>\n",
       "      <td>2814.00</td>\n",
       "      <td>2179.00</td>\n",
       "      <td>53.0</td>\n",
       "      <td>39.0</td>\n",
       "      <td>74.0</td>\n",
       "      <td>77.0</td>\n",
       "      <td>1</td>\n",
       "      <td>53.09</td>\n",
       "      <td>55.87</td>\n",
       "    </tr>\n",
       "    <tr>\n",
       "      <th>3</th>\n",
       "      <td>022014</td>\n",
       "      <td>107311.00</td>\n",
       "      <td>27900.00</td>\n",
       "      <td>716.0</td>\n",
       "      <td>198.0</td>\n",
       "      <td>28.0</td>\n",
       "      <td>26.0</td>\n",
       "      <td>1</td>\n",
       "      <td>149.88</td>\n",
       "      <td>140.91</td>\n",
       "    </tr>\n",
       "    <tr>\n",
       "      <th>4</th>\n",
       "      <td>022337</td>\n",
       "      <td>3335.00</td>\n",
       "      <td>1994.00</td>\n",
       "      <td>26.0</td>\n",
       "      <td>14.0</td>\n",
       "      <td>54.0</td>\n",
       "      <td>60.0</td>\n",
       "      <td>1</td>\n",
       "      <td>128.27</td>\n",
       "      <td>142.43</td>\n",
       "    </tr>\n",
       "    <tr>\n",
       "      <th>...</th>\n",
       "      <td>...</td>\n",
       "      <td>...</td>\n",
       "      <td>...</td>\n",
       "      <td>...</td>\n",
       "      <td>...</td>\n",
       "      <td>...</td>\n",
       "      <td>...</td>\n",
       "      <td>...</td>\n",
       "      <td>...</td>\n",
       "      <td>...</td>\n",
       "    </tr>\n",
       "    <tr>\n",
       "      <th>2616</th>\n",
       "      <td>347941</td>\n",
       "      <td>89.00</td>\n",
       "      <td>89.00</td>\n",
       "      <td>1.0</td>\n",
       "      <td>1.0</td>\n",
       "      <td>100.0</td>\n",
       "      <td>100.0</td>\n",
       "      <td>0</td>\n",
       "      <td>89.00</td>\n",
       "      <td>89.00</td>\n",
       "    </tr>\n",
       "    <tr>\n",
       "      <th>2617</th>\n",
       "      <td>347942</td>\n",
       "      <td>128.00</td>\n",
       "      <td>128.00</td>\n",
       "      <td>2.0</td>\n",
       "      <td>2.0</td>\n",
       "      <td>100.0</td>\n",
       "      <td>100.0</td>\n",
       "      <td>0</td>\n",
       "      <td>64.00</td>\n",
       "      <td>64.00</td>\n",
       "    </tr>\n",
       "    <tr>\n",
       "      <th>2618</th>\n",
       "      <td>347943</td>\n",
       "      <td>425.00</td>\n",
       "      <td>425.00</td>\n",
       "      <td>12.0</td>\n",
       "      <td>12.0</td>\n",
       "      <td>100.0</td>\n",
       "      <td>100.0</td>\n",
       "      <td>0</td>\n",
       "      <td>35.42</td>\n",
       "      <td>35.42</td>\n",
       "    </tr>\n",
       "    <tr>\n",
       "      <th>2619</th>\n",
       "      <td>347945</td>\n",
       "      <td>0.01</td>\n",
       "      <td>0.01</td>\n",
       "      <td>4.0</td>\n",
       "      <td>4.0</td>\n",
       "      <td>100.0</td>\n",
       "      <td>100.0</td>\n",
       "      <td>3</td>\n",
       "      <td>0.00</td>\n",
       "      <td>0.00</td>\n",
       "    </tr>\n",
       "    <tr>\n",
       "      <th>2620</th>\n",
       "      <td>347946</td>\n",
       "      <td>0.01</td>\n",
       "      <td>0.01</td>\n",
       "      <td>16.0</td>\n",
       "      <td>16.0</td>\n",
       "      <td>100.0</td>\n",
       "      <td>100.0</td>\n",
       "      <td>3</td>\n",
       "      <td>0.00</td>\n",
       "      <td>0.00</td>\n",
       "    </tr>\n",
       "  </tbody>\n",
       "</table>\n",
       "<p>2621 rows × 10 columns</p>\n",
       "</div>"
      ],
      "text/plain": [
       "     Customer  Invoiced Sales Amount_year  Invoiced Sales Amount_peak  \\\n",
       "0      021484                     8623.00                     1137.00   \n",
       "1      021559                    82485.00                    26233.00   \n",
       "2      021900                     2814.00                     2179.00   \n",
       "3      022014                   107311.00                    27900.00   \n",
       "4      022337                     3335.00                     1994.00   \n",
       "...       ...                         ...                         ...   \n",
       "2616   347941                       89.00                       89.00   \n",
       "2617   347942                      128.00                      128.00   \n",
       "2618   347943                      425.00                      425.00   \n",
       "2619   347945                        0.01                        0.01   \n",
       "2620   347946                        0.01                        0.01   \n",
       "\n",
       "      Sales Order Lines Count_year  Sales Order Lines Count_peak  \\\n",
       "0                            114.0                          13.0   \n",
       "1                            265.0                         111.0   \n",
       "2                             53.0                          39.0   \n",
       "3                            716.0                         198.0   \n",
       "4                             26.0                          14.0   \n",
       "...                            ...                           ...   \n",
       "2616                           1.0                           1.0   \n",
       "2617                           2.0                           2.0   \n",
       "2618                          12.0                          12.0   \n",
       "2619                           4.0                           4.0   \n",
       "2620                          16.0                          16.0   \n",
       "\n",
       "      peak_order_%  peak_revenue_%  Cluster  $_per_line_year  $_per_line_peak  \n",
       "0             11.0            13.0        1            75.64            87.46  \n",
       "1             42.0            32.0        1           311.26           236.33  \n",
       "2             74.0            77.0        1            53.09            55.87  \n",
       "3             28.0            26.0        1           149.88           140.91  \n",
       "4             54.0            60.0        1           128.27           142.43  \n",
       "...            ...             ...      ...              ...              ...  \n",
       "2616         100.0           100.0        0            89.00            89.00  \n",
       "2617         100.0           100.0        0            64.00            64.00  \n",
       "2618         100.0           100.0        0            35.42            35.42  \n",
       "2619         100.0           100.0        3             0.00             0.00  \n",
       "2620         100.0           100.0        3             0.00             0.00  \n",
       "\n",
       "[2621 rows x 10 columns]"
      ]
     },
     "execution_count": 170,
     "metadata": {},
     "output_type": "execute_result"
    }
   ],
   "source": [
    "rfm_kn.reset_index()"
   ]
  },
  {
   "cell_type": "code",
   "execution_count": null,
   "id": "f85e4f30",
   "metadata": {},
   "outputs": [],
   "source": []
  },
  {
   "cell_type": "markdown",
   "id": "86b1c435",
   "metadata": {},
   "source": [
    "# RELATIVE IMPORTANCE"
   ]
  },
  {
   "cell_type": "code",
   "execution_count": 171,
   "id": "063a7242",
   "metadata": {},
   "outputs": [],
   "source": [
    "rfm_ri = rfm_kn[['peak_revenue_%', 'Invoiced Sales Amount_year', 'peak_order_%',  'Cluster']]"
   ]
  },
  {
   "cell_type": "code",
   "execution_count": 172,
   "id": "926feb09",
   "metadata": {},
   "outputs": [
    {
     "name": "stdout",
     "output_type": "stream",
     "text": [
      "         peak_revenue_%  Invoiced Sales Amount_year  peak_order_%\n",
      "Cluster                                                          \n",
      "0                  0.35                       -0.87          0.35\n",
      "1                 -0.34                        0.93         -0.30\n",
      "2                  0.11                       -0.46         -1.00\n",
      "3                  0.16                       -0.87          0.39\n"
     ]
    }
   ],
   "source": [
    "# Calculate average RFM values for each cluster\n",
    "cluster_avg = rfm_ri.groupby(['Cluster']).mean() \n",
    "\n",
    "# Calculate average RFM values for the total customer population\n",
    "population_avg = rfm[['peak_revenue_%', 'Invoiced Sales Amount_year', 'peak_order_%']].mean()\n",
    "\n",
    "# Calculate relative importance of cluster's attribute value compared to population\n",
    "relative_imp = cluster_avg / population_avg - 1\n",
    "\n",
    "# Print relative importance scores rounded to 2 decimals\n",
    "print(relative_imp.round(2))"
   ]
  },
  {
   "cell_type": "code",
   "execution_count": 173,
   "id": "8c5717fd",
   "metadata": {},
   "outputs": [
    {
     "data": {
      "image/png": "[encoded data removed]",
      "text/plain": [
       "<Figure size 576x144 with 2 Axes>"
      ]
     },
     "metadata": {
      "needs_background": "light"
     },
     "output_type": "display_data"
    }
   ],
   "source": [
    "# Initialize a plot with a figure size of 8 by 2 inches \n",
    "plt.figure(figsize=(8, 2))\n",
    "\n",
    "# Add the plot title\n",
    "plt.title('Relative importance of attributes')\n",
    "\n",
    "# Plot the heatmap\n",
    "sns.heatmap(data=relative_imp, annot=True, fmt='.2f', cmap='RdYlGn')\n",
    "plt.xticks(rotation=25)\n",
    "plt.show()"
   ]
  },
  {
   "cell_type": "code",
   "execution_count": 234,
   "id": "535443ba",
   "metadata": {},
   "outputs": [
    {
     "data": {
      "image/png": "[encoded data removed]",
      "text/plain": [
       "<Figure size 864x432 with 1 Axes>"
      ]
     },
     "metadata": {
      "needs_background": "light"
     },
     "output_type": "display_data"
    }
   ],
   "source": [
    "\n",
    "df_revenue = rfm_kn.groupby('Cluster')['peak_revenue_%'].mean()\n",
    "df_order = rfm_kn.groupby('Cluster')['peak_order_%'].mean()\n",
    "X = set(rfm_kn['Cluster'])\n",
    "\n",
    "plt.subplots(figsize=(12,6))\n",
    "X_axis = np.arange(len(X))\n",
    "plt.bar(X_axis - 0.08, df_revenue, label='Peak Revenue %', color='blue', alpha=0.5)\n",
    "plt.bar(X_axis + 0.09, df_order, label='Peak Oredr %', color='gold', alpha=0.75)\n",
    "\n",
    "plt.title('Revenue / Workload representation per Cluster')\n",
    "plt.ylabel('%')\n",
    "plt.xticks(X_axis, X)\n",
    "plt.legend()\n",
    "\n",
    "for i, df_revenue in enumerate(df_revenue):\n",
    "    plt.text(i, df_revenue + 1, str(round(df_revenue)), fontsize=12, ha='center', va='baseline', animated=True)\n",
    "\n",
    "for i, df_order in enumerate(df_order):\n",
    "    plt.text(i, df_order + 1, str(round(df_order)), fontsize=12,  ha='center', va='bottom', animated=True)\n",
    "\n",
    "plt.show()"
   ]
  },
  {
   "cell_type": "markdown",
   "id": "28ecad06",
   "metadata": {},
   "source": [
    "# CLUSTER 0"
   ]
  },
  {
   "cell_type": "code",
   "execution_count": 174,
   "id": "8af00973",
   "metadata": {},
   "outputs": [],
   "source": [
    "c_0 = rfm_kn[rfm_kn['Cluster']==0] #low peak"
   ]
  },
  {
   "cell_type": "code",
   "execution_count": 175,
   "id": "f500f8a6",
   "metadata": {},
   "outputs": [
    {
     "name": "stdout",
     "output_type": "stream",
     "text": [
      "Cluster 0: \n",
      "# Customers: 1104\n",
      "Invoiced Sales Amount 2022 MEAN: 1312.92 EUR\n",
      "Invoiced Sales Amount Peak MEAN: 869.47 EUR \n",
      "Sales Order Lines Count Peak SUM: 4575.0\n",
      "MEAN peak_order_%: 72.0% \n",
      "MEAN peak_revenue_%: 75.0%\n"
     ]
    }
   ],
   "source": [
    "print('Cluster 0: \\n# Customers: {}\\nInvoiced Sales Amount 2022 MEAN: {} EUR\\nInvoiced Sales Amount Peak MEAN: {} EUR \\nSales Order Lines Count Peak SUM: {}\\nMEAN peak_order_%: {}% \\nMEAN peak_revenue_%: {}%'\\\n",
    "      .format(c_0.shape[0],\\\n",
    "             round(c_0['Invoiced Sales Amount_year'].mean(), 2),\\\n",
    "             round(c_0['Invoiced Sales Amount_peak'].mean(), 2), \\\n",
    "             round(c_0['Sales Order Lines Count_peak'].sum(), 2),\\\n",
    "             round(c_0['peak_order_%'].mean(), 0), \\\n",
    "             round(c_0['peak_revenue_%'].mean(), 0)))\n"
   ]
  },
  {
   "cell_type": "code",
   "execution_count": 159,
   "id": "6e34127c",
   "metadata": {},
   "outputs": [
    {
     "data": {
      "text/plain": [
       "(0.0, 10000.0)"
      ]
     },
     "execution_count": 159,
     "metadata": {},
     "output_type": "execute_result"
    },
    {
     "data": {
      "image/png": "[encoded data removed]",
      "text/plain": [
       "<Figure size 432x432 with 3 Axes>"
      ]
     },
     "metadata": {
      "needs_background": "light"
     },
     "output_type": "display_data"
    }
   ],
   "source": [
    "g1 = sns.JointGrid(data=c_0, y='Invoiced Sales Amount_year', x='Sales Order Lines Count_year')\n",
    "g1.plot(sns.scatterplot, sns.histplot)\n",
    "g1.plot_joint(sns.kdeplot)\n",
    "g1.plot_marginals(sns.kdeplot)\n",
    "g1.ax_joint.collections[0].set_alpha(0.3)\n",
    "g1.ax_joint.set_xlim(0, 60)\n",
    "g1.ax_joint.set_ylim(0, 10000)"
   ]
  },
  {
   "cell_type": "markdown",
   "id": "4ecda4f1",
   "metadata": {},
   "source": [
    "# CLUSTER 1"
   ]
  },
  {
   "cell_type": "code",
   "execution_count": 178,
   "id": "d3185912",
   "metadata": {},
   "outputs": [],
   "source": [
    "c_1 = rfm_kn[rfm_kn['Cluster']==1] #all at peak"
   ]
  },
  {
   "cell_type": "code",
   "execution_count": 179,
   "id": "911fde3b",
   "metadata": {},
   "outputs": [
    {
     "name": "stdout",
     "output_type": "stream",
     "text": [
      "Cluster 1: \n",
      "# Customers: 1252\n",
      "Invoiced Sales Amount 2022 MEAN: 20271.98 EUR\n",
      "Invoiced Sales Amount Peak MEAN: 6168.57 EUR \n",
      "Sales Order Lines Count Peak SUM: 50160.0\n",
      "MEAN peak_order_%: 37.0% \n",
      "MEAN peak_revenue_%: 37.0%\n"
     ]
    }
   ],
   "source": [
    "print('Cluster 1: \\n# Customers: {}\\nInvoiced Sales Amount 2022 MEAN: {} EUR\\nInvoiced Sales Amount Peak MEAN: {} EUR \\nSales Order Lines Count Peak SUM: {}\\nMEAN peak_order_%: {}% \\nMEAN peak_revenue_%: {}%'\\\n",
    "      .format(c_1.shape[0],\\\n",
    "             round(c_1['Invoiced Sales Amount_year'].mean(), 2),\\\n",
    "             round(c_1['Invoiced Sales Amount_peak'].mean(), 2), \\\n",
    "             round(c_1['Sales Order Lines Count_peak'].sum(), 2),\\\n",
    "             round(c_1['peak_order_%'].mean(), 0), \\\n",
    "             round(c_1['peak_revenue_%'].mean(), 0)))\n"
   ]
  },
  {
   "cell_type": "code",
   "execution_count": 191,
   "id": "ae192e52",
   "metadata": {},
   "outputs": [
    {
     "data": {
      "text/plain": [
       "(0.0, 90000.0)"
      ]
     },
     "execution_count": 191,
     "metadata": {},
     "output_type": "execute_result"
    },
    {
     "data": {
      "image/png": "[encoded data removed]",
      "text/plain": [
       "<Figure size 432x432 with 3 Axes>"
      ]
     },
     "metadata": {
      "needs_background": "light"
     },
     "output_type": "display_data"
    }
   ],
   "source": [
    "g1 = sns.JointGrid(data=c_1, y='Invoiced Sales Amount_year', x='Sales Order Lines Count_year')\n",
    "g1.plot(sns.scatterplot, sns.histplot)\n",
    "g1.plot_joint(sns.kdeplot)\n",
    "g1.plot_marginals(sns.kdeplot)\n",
    "g1.ax_joint.collections[0].set_alpha(0.3)\n",
    "g1.ax_joint.set_xlim(0, 1000)\n",
    "g1.ax_joint.set_ylim(0, 90000)"
   ]
  },
  {
   "cell_type": "markdown",
   "id": "f225b58f",
   "metadata": {},
   "source": [
    "# CLUSTER 2"
   ]
  },
  {
   "cell_type": "code",
   "execution_count": 212,
   "id": "e1863621",
   "metadata": {},
   "outputs": [],
   "source": [
    "c_2 = rfm_kn[rfm_kn['Cluster']==2] #no peak focuse"
   ]
  },
  {
   "cell_type": "code",
   "execution_count": 213,
   "id": "ae10785e",
   "metadata": {},
   "outputs": [
    {
     "name": "stdout",
     "output_type": "stream",
     "text": [
      "Cluster 2: \n",
      "# Customers: 76\n",
      "Invoiced Sales Amount 2022 MEAN: 5685.07 EUR\n",
      "Invoiced Sales Amount Peak MEAN: 3327.53 EUR \n",
      "Sales Order Lines Count Peak SUM: 0.76\n",
      "MEAN peak_order_%: 0.0% \n",
      "MEAN peak_revenue_%: 62.0%\n"
     ]
    }
   ],
   "source": [
    "print('Cluster 2: \\n# Customers: {}\\nInvoiced Sales Amount 2022 MEAN: {} EUR\\nInvoiced Sales Amount Peak MEAN: {} EUR \\nSales Order Lines Count Peak SUM: {}\\nMEAN peak_order_%: {}% \\nMEAN peak_revenue_%: {}%'\\\n",
    "      .format(c_2.shape[0],\\\n",
    "             round(c_2['Invoiced Sales Amount_year'].mean(), 2),\\\n",
    "             round(c_2['Invoiced Sales Amount_peak'].mean(), 2), \\\n",
    "             round(c_2['Sales Order Lines Count_peak'].sum(), 2),\\\n",
    "             round(c_2['peak_order_%'].mean(), 0), \\\n",
    "             round(c_2['peak_revenue_%'].mean(), 0)))\n"
   ]
  },
  {
   "cell_type": "code",
   "execution_count": 243,
   "id": "2014d01c",
   "metadata": {},
   "outputs": [
    {
     "data": {
      "text/plain": [
       "(0.0, 80000.0)"
      ]
     },
     "execution_count": 243,
     "metadata": {},
     "output_type": "execute_result"
    },
    {
     "data": {
      "image/png": "[encoded data removed]",
      "text/plain": [
       "<Figure size 432x432 with 3 Axes>"
      ]
     },
     "metadata": {
      "needs_background": "light"
     },
     "output_type": "display_data"
    }
   ],
   "source": [
    "g1 = sns.JointGrid(data=c_2, y='Invoiced Sales Amount_year', x='Sales Order Lines Count_year')\n",
    "g1.plot(sns.scatterplot, sns.histplot)\n",
    "g1.plot_joint(sns.kdeplot)\n",
    "g1.plot_marginals(sns.kdeplot)\n",
    "g1.ax_joint.collections[0].set_alpha(0.3)\n",
    "g1.ax_joint.set_xlim(0, 400)\n",
    "g1.ax_joint.set_ylim(0, 80000)"
   ]
  },
  {
   "cell_type": "code",
   "execution_count": null,
   "id": "b648a763",
   "metadata": {},
   "outputs": [],
   "source": []
  },
  {
   "cell_type": "markdown",
   "id": "26c0b220",
   "metadata": {},
   "source": [
    "# CLUSTER 3"
   ]
  },
  {
   "cell_type": "code",
   "execution_count": 216,
   "id": "618c1aac",
   "metadata": {},
   "outputs": [],
   "source": [
    "c_3 = rfm_kn[rfm_kn['Cluster']==3] #low invoiced"
   ]
  },
  {
   "cell_type": "code",
   "execution_count": 217,
   "id": "48b638c8",
   "metadata": {},
   "outputs": [
    {
     "name": "stdout",
     "output_type": "stream",
     "text": [
      "Cluster 3: \n",
      "# Customers: 189\n",
      "Invoiced Sales Amount 2022 MEAN: 1329.96 EUR\n",
      "Invoiced Sales Amount Peak MEAN: 0.04 EUR \n",
      "Sales Order Lines Count Peak SUM: 774.01\n",
      "MEAN peak_order_%: 74.0% \n",
      "MEAN peak_revenue_%: 65.0%\n"
     ]
    }
   ],
   "source": [
    "print('Cluster 3: \\n# Customers: {}\\nInvoiced Sales Amount 2022 MEAN: {} EUR\\nInvoiced Sales Amount Peak MEAN: {} EUR \\nSales Order Lines Count Peak SUM: {}\\nMEAN peak_order_%: {}% \\nMEAN peak_revenue_%: {}%'\\\n",
    "      .format(c_3.shape[0],\\\n",
    "             round(c_3['Invoiced Sales Amount_year'].mean(), 2),\\\n",
    "             round(c_3['Invoiced Sales Amount_peak'].mean(), 2), \\\n",
    "             round(c_3['Sales Order Lines Count_peak'].sum(), 2),\\\n",
    "             round(c_3['peak_order_%'].mean(), 0), \\\n",
    "             round(c_3['peak_revenue_%'].mean(), 0)))\n"
   ]
  },
  {
   "cell_type": "code",
   "execution_count": 244,
   "id": "6b166e6a",
   "metadata": {},
   "outputs": [
    {
     "data": {
      "text/plain": [
       "(0.0, 15000.0)"
      ]
     },
     "execution_count": 244,
     "metadata": {},
     "output_type": "execute_result"
    },
    {
     "data": {
      "image/png": "[encoded data removed]",
      "text/plain": [
       "<Figure size 432x432 with 3 Axes>"
      ]
     },
     "metadata": {
      "needs_background": "light"
     },
     "output_type": "display_data"
    }
   ],
   "source": [
    "g1 = sns.JointGrid(data=c_3, y='Invoiced Sales Amount_year', x='Sales Order Lines Count_year')\n",
    "g1.plot(sns.scatterplot, sns.histplot)\n",
    "g1.plot_joint(sns.kdeplot)\n",
    "g1.plot_marginals(sns.kdeplot)\n",
    "g1.ax_joint.collections[0].set_alpha(0.3)\n",
    "g1.ax_joint.set_xlim(0, 200)\n",
    "g1.ax_joint.set_ylim(0, 15000)"
   ]
  },
  {
   "cell_type": "code",
   "execution_count": 245,
   "id": "3535eb80",
   "metadata": {},
   "outputs": [
    {
     "data": {
      "image/png": "[encoded data removed]",
      "text/plain": [
       "<Figure size 864x360 with 4 Axes>"
      ]
     },
     "metadata": {
      "needs_background": "light"
     },
     "output_type": "display_data"
    }
   ],
   "source": [
    "sns.set_palette('bright')\n",
    "fig, (ax1, ax2, ax3, ax4) = plt.subplots(1, 4, figsize=(12, 5))\n",
    "\n",
    "# Create the first boxenplot on the first subplot\n",
    "sns.boxenplot(data=c_0, y='Invoiced Sales Amount_year', ax=ax1)\n",
    "ax1.set_title('C 0: Revenue (Year)')\n",
    "ax1.set_xlabel('EUR/YEAR')\n",
    "ax1.set_ylabel('EUR')\n",
    "\n",
    "# Create the second boxenplot on the second subplot\n",
    "sns.boxenplot(data=c_1, y='Invoiced Sales Amount_year', ax=ax2)\n",
    "ax2.set_title('C 1: Revenue (Year)')\n",
    "ax2.set_xlabel('EUR/YEAR')\n",
    "\n",
    "# Create the second boxenplot on the second subplot\n",
    "sns.boxenplot(data=c_2, y='Invoiced Sales Amount_year', ax=ax3)\n",
    "ax3.set_title('C 2: Revenue (Year)')\n",
    "ax3.set_xlabel('EUR/YEAR')\n",
    "\n",
    "# Create the second boxenplot on the second subplot\n",
    "sns.boxenplot(data=c_3, y='Invoiced Sales Amount_year', ax=ax4)\n",
    "ax4.set_title('C 3: Revenue (Year)')\n",
    "ax4.set_xlabel('EUR/YEAR')\n",
    "\n",
    "\n",
    "# Adjust the spacing between subplots\n",
    "plt.tight_layout()\n",
    "\n",
    "# Show the plot\n",
    "plt.show()"
   ]
  },
  {
   "cell_type": "code",
   "execution_count": 246,
   "id": "218c814c",
   "metadata": {},
   "outputs": [
    {
     "data": {
      "image/png": "[encoded data removed]",
      "text/plain": [
       "<Figure size 864x360 with 4 Axes>"
      ]
     },
     "metadata": {
      "needs_background": "light"
     },
     "output_type": "display_data"
    }
   ],
   "source": [
    "sns.set_palette('bright')\n",
    "fig, (ax1, ax2, ax3, ax4) = plt.subplots(1, 4, figsize=(12, 5))\n",
    "\n",
    "# Create the first boxenplot on the first subplot\n",
    "sns.boxenplot(data=c_0, y='Invoiced Sales Amount_peak', ax=ax1)\n",
    "ax1.set_title('C 0: Revenue (Peak)')\n",
    "ax1.set_xlabel('EUR/YEAR')\n",
    "ax1.set_ylabel('EUR')\n",
    "\n",
    "# Create the second boxenplot on the second subplot\n",
    "sns.boxenplot(data=c_1, y='Invoiced Sales Amount_peak', ax=ax2)\n",
    "ax2.set_title('C 1: Revenue (Peak)')\n",
    "ax2.set_xlabel('EUR/YEAR')\n",
    "\n",
    "# Create the second boxenplot on the second subplot\n",
    "sns.boxenplot(data=c_2, y='Invoiced Sales Amount_peak', ax=ax3)\n",
    "ax3.set_title('C 2: Revenue (Peak)')\n",
    "ax3.set_xlabel('EUR/YEAR')\n",
    "\n",
    "# Create the second boxenplot on the second subplot\n",
    "sns.boxenplot(data=c_3, y='Invoiced Sales Amount_peak', ax=ax4)\n",
    "ax4.set_title('C 3: Revenue (Peak)')\n",
    "ax4.set_xlabel('EUR/YEAR')\n",
    "\n",
    "\n",
    "# Adjust the spacing between subplots\n",
    "plt.tight_layout()\n",
    "\n",
    "# Show the plot\n",
    "plt.show()"
   ]
  },
  {
   "cell_type": "code",
   "execution_count": null,
   "id": "2b4e5908",
   "metadata": {},
   "outputs": [],
   "source": []
  },
  {
   "cell_type": "code",
   "execution_count": 136,
   "id": "f69e85d3",
   "metadata": {},
   "outputs": [],
   "source": [
    "writer = pd.ExcelWriter(str(input('Paste your path and filename here: ')), engine='xlsxwriter')"
   ]
  },
  {
   "cell_type": "code",
   "execution_count": 137,
   "id": "055b1d70",
   "metadata": {},
   "outputs": [],
   "source": [
    "c_0.to_excel(writer, \n",
    "             sheet_name='Cluster 0', \n",
    "             index=True)"
   ]
  },
  {
   "cell_type": "code",
   "execution_count": 138,
   "id": "c4bde051",
   "metadata": {},
   "outputs": [],
   "source": [
    "c_1.to_excel(writer, \n",
    "             sheet_name='Cluster 1', \n",
    "             index=True)"
   ]
  },
  {
   "cell_type": "code",
   "execution_count": 139,
   "id": "4a4d422d",
   "metadata": {},
   "outputs": [],
   "source": [
    "c_2.to_excel(writer, \n",
    "             sheet_name='Cluster 2', \n",
    "            index=True)"
   ]
  },
  {
   "cell_type": "code",
   "execution_count": 140,
   "id": "f96dc077",
   "metadata": {},
   "outputs": [],
   "source": [
    "c_3.to_excel(writer, \n",
    "             sheet_name='Cluster 3', \n",
    "            index=True)"
   ]
  },
  {
   "cell_type": "code",
   "execution_count": 141,
   "id": "0cb5eb9c",
   "metadata": {},
   "outputs": [],
   "source": [
    "writer.save()"
   ]
  },
  {
   "cell_type": "code",
   "execution_count": null,
   "id": "95d48ab5",
   "metadata": {},
   "outputs": [],
   "source": []
  }
 ],
 "metadata": {
  "kernelspec": {
   "display_name": "Python 3",
   "language": "python",
   "name": "python3"
  },
  "language_info": {
   "codemirror_mode": {
    "name": "ipython",
    "version": 3
   },
   "file_extension": ".py",
   "mimetype": "text/x-python",
   "name": "python",
   "nbconvert_exporter": "python",
   "pygments_lexer": "ipython3",
   "version": "3.8.8"
  }
 },
 "nbformat": 4,
 "nbformat_minor": 5
}
